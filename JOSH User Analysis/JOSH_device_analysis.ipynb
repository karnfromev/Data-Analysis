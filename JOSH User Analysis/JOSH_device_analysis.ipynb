{
  "nbformat": 4,
  "nbformat_minor": 0,
  "metadata": {
    "colab": {
      "name": "JOSH_device_analysis.ipynb",
      "provenance": []
    },
    "kernelspec": {
      "name": "python3",
      "display_name": "Python 3"
    },
    "language_info": {
      "name": "python"
    }
  },
  "cells": [
    {
      "cell_type": "markdown",
      "metadata": {
        "id": "gpqb7XdXtjYB"
      },
      "source": [
        "The objective of this notebook is to answer these questions:\n",
        "\n",
        "1. Which device OS versions have the best and worst ratings.\n",
        "\n",
        "2. What is the average rating by day.\n",
        "\n",
        "3. How do ratings change over time.\n",
        "\n",
        "4. Average devices installed over time and how they change.\n",
        "\n",
        "5. Compare install to uninstall rates.\n"
      ]
    },
    {
      "cell_type": "code",
      "metadata": {
        "id": "3sRAq7A3rjCm"
      },
      "source": [
        "import pandas as pd\n",
        "import seaborn as sns\n",
        "import matplotlib.pyplot as plt\n",
        "#import datetime as dt\n",
        "#from google.colab import files\n",
        "\n",
        "#data = files.upload()"
      ],
      "execution_count": 56,
      "outputs": []
    },
    {
      "cell_type": "code",
      "metadata": {
        "colab": {
          "base_uri": "https://localhost:8080/",
          "height": 203
        },
        "id": "ITl_cVFDuCAU",
        "outputId": "775d54fc-f1be-40e2-d869-f2bebfd295a5"
      },
      "source": [
        "installs = pd.read_csv(r\"stats_installs_overview.csv\", encoding = 'utf-16')\n",
        "ratings = pd.read_csv(r\"stats_ratings_ratings_in.evstudios.josh_202107_os_version.csv\", encoding = 'utf-16')\n",
        "\n",
        "ratings.head()"
      ],
      "execution_count": 42,
      "outputs": [
        {
          "output_type": "execute_result",
          "data": {
            "text/html": [
              "<div>\n",
              "<style scoped>\n",
              "    .dataframe tbody tr th:only-of-type {\n",
              "        vertical-align: middle;\n",
              "    }\n",
              "\n",
              "    .dataframe tbody tr th {\n",
              "        vertical-align: top;\n",
              "    }\n",
              "\n",
              "    .dataframe thead th {\n",
              "        text-align: right;\n",
              "    }\n",
              "</style>\n",
              "<table border=\"1\" class=\"dataframe\">\n",
              "  <thead>\n",
              "    <tr style=\"text-align: right;\">\n",
              "      <th></th>\n",
              "      <th>Date</th>\n",
              "      <th>Package Name</th>\n",
              "      <th>Android OS Version</th>\n",
              "      <th>Daily Average Rating</th>\n",
              "      <th>Total Average Rating</th>\n",
              "    </tr>\n",
              "  </thead>\n",
              "  <tbody>\n",
              "    <tr>\n",
              "      <th>0</th>\n",
              "      <td>2021-07-01</td>\n",
              "      <td>in.evstudios.josh</td>\n",
              "      <td>Android 4.4</td>\n",
              "      <td>NaN</td>\n",
              "      <td>2.00</td>\n",
              "    </tr>\n",
              "    <tr>\n",
              "      <th>1</th>\n",
              "      <td>2021-07-01</td>\n",
              "      <td>in.evstudios.josh</td>\n",
              "      <td>Android 5.0</td>\n",
              "      <td>NaN</td>\n",
              "      <td>1.00</td>\n",
              "    </tr>\n",
              "    <tr>\n",
              "      <th>2</th>\n",
              "      <td>2021-07-01</td>\n",
              "      <td>in.evstudios.josh</td>\n",
              "      <td>Android 5.1</td>\n",
              "      <td>NaN</td>\n",
              "      <td>4.50</td>\n",
              "    </tr>\n",
              "    <tr>\n",
              "      <th>3</th>\n",
              "      <td>2021-07-01</td>\n",
              "      <td>in.evstudios.josh</td>\n",
              "      <td>Android 6.0</td>\n",
              "      <td>NaN</td>\n",
              "      <td>3.92</td>\n",
              "    </tr>\n",
              "    <tr>\n",
              "      <th>4</th>\n",
              "      <td>2021-07-01</td>\n",
              "      <td>in.evstudios.josh</td>\n",
              "      <td>Android 7.0</td>\n",
              "      <td>NaN</td>\n",
              "      <td>4.22</td>\n",
              "    </tr>\n",
              "  </tbody>\n",
              "</table>\n",
              "</div>"
            ],
            "text/plain": [
              "         Date       Package Name  ... Daily Average Rating  Total Average Rating\n",
              "0  2021-07-01  in.evstudios.josh  ...                  NaN                  2.00\n",
              "1  2021-07-01  in.evstudios.josh  ...                  NaN                  1.00\n",
              "2  2021-07-01  in.evstudios.josh  ...                  NaN                  4.50\n",
              "3  2021-07-01  in.evstudios.josh  ...                  NaN                  3.92\n",
              "4  2021-07-01  in.evstudios.josh  ...                  NaN                  4.22\n",
              "\n",
              "[5 rows x 5 columns]"
            ]
          },
          "metadata": {},
          "execution_count": 42
        }
      ]
    },
    {
      "cell_type": "code",
      "metadata": {
        "id": "coZznd-Y1oIE"
      },
      "source": [
        "ratings.rename(columns = {\"Date\": 'date','Package Name':'package_name', 'Android OS Version' : 'android_os_version', 'Daily Average Rating' :'daily_average_rating',\n",
        "       'Total Average Rating' : 'total_average_rating'}, inplace = True)"
      ],
      "execution_count": 43,
      "outputs": []
    },
    {
      "cell_type": "code",
      "metadata": {
        "id": "Y_mz6xij13xk"
      },
      "source": [
        "installs['Date'] = pd.to_datetime(install['Date'])\n",
        "ratings['Date'] = pd.to_datetime(rating['Date'])"
      ],
      "execution_count": 45,
      "outputs": []
    },
    {
      "cell_type": "code",
      "metadata": {
        "colab": {
          "base_uri": "https://localhost:8080/",
          "height": 312
        },
        "id": "ILXHBN9l14D0",
        "outputId": "8ab2299c-b264-4c34-88c2-458b8ce6398b"
      },
      "source": [
        "installs.describe()"
      ],
      "execution_count": 46,
      "outputs": [
        {
          "output_type": "execute_result",
          "data": {
            "text/html": [
              "<div>\n",
              "<style scoped>\n",
              "    .dataframe tbody tr th:only-of-type {\n",
              "        vertical-align: middle;\n",
              "    }\n",
              "\n",
              "    .dataframe tbody tr th {\n",
              "        vertical-align: top;\n",
              "    }\n",
              "\n",
              "    .dataframe thead th {\n",
              "        text-align: right;\n",
              "    }\n",
              "</style>\n",
              "<table border=\"1\" class=\"dataframe\">\n",
              "  <thead>\n",
              "    <tr style=\"text-align: right;\">\n",
              "      <th></th>\n",
              "      <th>Daily Device Installs</th>\n",
              "      <th>Daily Device Uninstalls</th>\n",
              "      <th>Daily Device Upgrades</th>\n",
              "      <th>Total User Installs</th>\n",
              "      <th>Daily User Installs</th>\n",
              "      <th>Daily User Uninstalls</th>\n",
              "      <th>Active Device Installs</th>\n",
              "      <th>Install events</th>\n",
              "      <th>Update events</th>\n",
              "      <th>Uninstall events</th>\n",
              "    </tr>\n",
              "  </thead>\n",
              "  <tbody>\n",
              "    <tr>\n",
              "      <th>count</th>\n",
              "      <td>31.000000</td>\n",
              "      <td>31.0</td>\n",
              "      <td>31.0</td>\n",
              "      <td>31.0</td>\n",
              "      <td>31.000000</td>\n",
              "      <td>31.000000</td>\n",
              "      <td>31.000000</td>\n",
              "      <td>31.000000</td>\n",
              "      <td>31.000000</td>\n",
              "      <td>31.000000</td>\n",
              "    </tr>\n",
              "    <tr>\n",
              "      <th>mean</th>\n",
              "      <td>20.387097</td>\n",
              "      <td>0.0</td>\n",
              "      <td>0.0</td>\n",
              "      <td>0.0</td>\n",
              "      <td>20.032258</td>\n",
              "      <td>19.967742</td>\n",
              "      <td>219.741935</td>\n",
              "      <td>22.096774</td>\n",
              "      <td>1.935484</td>\n",
              "      <td>20.354839</td>\n",
              "    </tr>\n",
              "    <tr>\n",
              "      <th>std</th>\n",
              "      <td>55.288744</td>\n",
              "      <td>0.0</td>\n",
              "      <td>0.0</td>\n",
              "      <td>0.0</td>\n",
              "      <td>54.295171</td>\n",
              "      <td>35.139232</td>\n",
              "      <td>59.941064</td>\n",
              "      <td>58.137398</td>\n",
              "      <td>3.595696</td>\n",
              "      <td>35.597330</td>\n",
              "    </tr>\n",
              "    <tr>\n",
              "      <th>min</th>\n",
              "      <td>1.000000</td>\n",
              "      <td>0.0</td>\n",
              "      <td>0.0</td>\n",
              "      <td>0.0</td>\n",
              "      <td>1.000000</td>\n",
              "      <td>3.000000</td>\n",
              "      <td>164.000000</td>\n",
              "      <td>3.000000</td>\n",
              "      <td>0.000000</td>\n",
              "      <td>3.000000</td>\n",
              "    </tr>\n",
              "    <tr>\n",
              "      <th>25%</th>\n",
              "      <td>5.000000</td>\n",
              "      <td>0.0</td>\n",
              "      <td>0.0</td>\n",
              "      <td>0.0</td>\n",
              "      <td>5.000000</td>\n",
              "      <td>5.500000</td>\n",
              "      <td>174.500000</td>\n",
              "      <td>6.000000</td>\n",
              "      <td>0.000000</td>\n",
              "      <td>5.500000</td>\n",
              "    </tr>\n",
              "    <tr>\n",
              "      <th>50%</th>\n",
              "      <td>6.000000</td>\n",
              "      <td>0.0</td>\n",
              "      <td>0.0</td>\n",
              "      <td>0.0</td>\n",
              "      <td>6.000000</td>\n",
              "      <td>9.000000</td>\n",
              "      <td>179.000000</td>\n",
              "      <td>7.000000</td>\n",
              "      <td>0.000000</td>\n",
              "      <td>9.000000</td>\n",
              "    </tr>\n",
              "    <tr>\n",
              "      <th>75%</th>\n",
              "      <td>8.500000</td>\n",
              "      <td>0.0</td>\n",
              "      <td>0.0</td>\n",
              "      <td>0.0</td>\n",
              "      <td>8.000000</td>\n",
              "      <td>16.000000</td>\n",
              "      <td>275.500000</td>\n",
              "      <td>9.500000</td>\n",
              "      <td>1.500000</td>\n",
              "      <td>16.000000</td>\n",
              "    </tr>\n",
              "    <tr>\n",
              "      <th>max</th>\n",
              "      <td>299.000000</td>\n",
              "      <td>0.0</td>\n",
              "      <td>0.0</td>\n",
              "      <td>0.0</td>\n",
              "      <td>291.000000</td>\n",
              "      <td>181.000000</td>\n",
              "      <td>335.000000</td>\n",
              "      <td>316.000000</td>\n",
              "      <td>14.000000</td>\n",
              "      <td>183.000000</td>\n",
              "    </tr>\n",
              "  </tbody>\n",
              "</table>\n",
              "</div>"
            ],
            "text/plain": [
              "       Daily Device Installs  ...  Uninstall events\n",
              "count              31.000000  ...         31.000000\n",
              "mean               20.387097  ...         20.354839\n",
              "std                55.288744  ...         35.597330\n",
              "min                 1.000000  ...          3.000000\n",
              "25%                 5.000000  ...          5.500000\n",
              "50%                 6.000000  ...          9.000000\n",
              "75%                 8.500000  ...         16.000000\n",
              "max               299.000000  ...        183.000000\n",
              "\n",
              "[8 rows x 10 columns]"
            ]
          },
          "metadata": {},
          "execution_count": 46
        }
      ]
    },
    {
      "cell_type": "code",
      "metadata": {
        "colab": {
          "base_uri": "https://localhost:8080/"
        },
        "id": "0ALbHvg414Tw",
        "outputId": "eb3f0154-280d-4e8d-f2ec-e37493b3b8fe"
      },
      "source": [
        "ratings.info()"
      ],
      "execution_count": 47,
      "outputs": [
        {
          "output_type": "stream",
          "name": "stdout",
          "text": [
            "<class 'pandas.core.frame.DataFrame'>\n",
            "RangeIndex: 353 entries, 0 to 352\n",
            "Data columns (total 6 columns):\n",
            " #   Column                Non-Null Count  Dtype         \n",
            "---  ------                --------------  -----         \n",
            " 0   date                  353 non-null    object        \n",
            " 1   package_name          353 non-null    object        \n",
            " 2   android_os_version    341 non-null    object        \n",
            " 3   daily_average_rating  23 non-null     float64       \n",
            " 4   total_average_rating  353 non-null    float64       \n",
            " 5   Date                  353 non-null    datetime64[ns]\n",
            "dtypes: datetime64[ns](1), float64(2), object(3)\n",
            "memory usage: 16.7+ KB\n"
          ]
        }
      ]
    },
    {
      "cell_type": "code",
      "metadata": {
        "colab": {
          "base_uri": "https://localhost:8080/",
          "height": 295
        },
        "id": "pldT3Zmv14kw",
        "outputId": "252a4d8b-1956-4a09-b914-5c85c917e9c6"
      },
      "source": [
        "ratings.describe()"
      ],
      "execution_count": 48,
      "outputs": [
        {
          "output_type": "execute_result",
          "data": {
            "text/html": [
              "<div>\n",
              "<style scoped>\n",
              "    .dataframe tbody tr th:only-of-type {\n",
              "        vertical-align: middle;\n",
              "    }\n",
              "\n",
              "    .dataframe tbody tr th {\n",
              "        vertical-align: top;\n",
              "    }\n",
              "\n",
              "    .dataframe thead th {\n",
              "        text-align: right;\n",
              "    }\n",
              "</style>\n",
              "<table border=\"1\" class=\"dataframe\">\n",
              "  <thead>\n",
              "    <tr style=\"text-align: right;\">\n",
              "      <th></th>\n",
              "      <th>daily_average_rating</th>\n",
              "      <th>total_average_rating</th>\n",
              "    </tr>\n",
              "  </thead>\n",
              "  <tbody>\n",
              "    <tr>\n",
              "      <th>count</th>\n",
              "      <td>23.000000</td>\n",
              "      <td>353.000000</td>\n",
              "    </tr>\n",
              "    <tr>\n",
              "      <th>mean</th>\n",
              "      <td>4.621739</td>\n",
              "      <td>3.408329</td>\n",
              "    </tr>\n",
              "    <tr>\n",
              "      <th>std</th>\n",
              "      <td>0.874870</td>\n",
              "      <td>1.004497</td>\n",
              "    </tr>\n",
              "    <tr>\n",
              "      <th>min</th>\n",
              "      <td>1.000000</td>\n",
              "      <td>1.000000</td>\n",
              "    </tr>\n",
              "    <tr>\n",
              "      <th>25%</th>\n",
              "      <td>4.730000</td>\n",
              "      <td>3.370000</td>\n",
              "    </tr>\n",
              "    <tr>\n",
              "      <th>50%</th>\n",
              "      <td>5.000000</td>\n",
              "      <td>3.640000</td>\n",
              "    </tr>\n",
              "    <tr>\n",
              "      <th>75%</th>\n",
              "      <td>5.000000</td>\n",
              "      <td>3.970000</td>\n",
              "    </tr>\n",
              "    <tr>\n",
              "      <th>max</th>\n",
              "      <td>5.000000</td>\n",
              "      <td>5.000000</td>\n",
              "    </tr>\n",
              "  </tbody>\n",
              "</table>\n",
              "</div>"
            ],
            "text/plain": [
              "       daily_average_rating  total_average_rating\n",
              "count             23.000000            353.000000\n",
              "mean               4.621739              3.408329\n",
              "std                0.874870              1.004497\n",
              "min                1.000000              1.000000\n",
              "25%                4.730000              3.370000\n",
              "50%                5.000000              3.640000\n",
              "75%                5.000000              3.970000\n",
              "max                5.000000              5.000000"
            ]
          },
          "metadata": {},
          "execution_count": 48
        }
      ]
    },
    {
      "cell_type": "code",
      "metadata": {
        "colab": {
          "base_uri": "https://localhost:8080/"
        },
        "id": "ZM5pQNCe19nC",
        "outputId": "f532d3d6-d145-4c14-8bd7-48bdbb72c2c2"
      },
      "source": [
        "ratings.columns"
      ],
      "execution_count": 49,
      "outputs": [
        {
          "output_type": "execute_result",
          "data": {
            "text/plain": [
              "Index(['date', 'package_name', 'android_os_version', 'daily_average_rating',\n",
              "       'total_average_rating', 'Date'],\n",
              "      dtype='object')"
            ]
          },
          "metadata": {},
          "execution_count": 49
        }
      ]
    },
    {
      "cell_type": "markdown",
      "metadata": {
        "id": "TqD-HV702124"
      },
      "source": [
        "Determining the best and worst OS Version (Android):"
      ]
    },
    {
      "cell_type": "code",
      "metadata": {
        "colab": {
          "base_uri": "https://localhost:8080/"
        },
        "id": "ULAfxrkR26Yp",
        "outputId": "4564b381-2a38-4550-dd0b-6d571d04662e"
      },
      "source": [
        "os_ratings = pd.DataFrame(ratings.groupby('android_os_version')['total_average_rating'].median()).reset_index()\n",
        "best_os = os_ratings[os_ratings.total_average_rating == os_ratings.total_average_rating.max()].android_os_version.item()\n",
        "worst_os = os_ratings.loc[os_ratings.total_average_rating == os_ratings.total_average_rating.min(),'android_os_version'].item()\n",
        "print(f'Best Android OS version based on Ratings: {best_os}')\n",
        "print(f'Worst Android OS version based on Ratings: {worst_os}')"
      ],
      "execution_count": 51,
      "outputs": [
        {
          "output_type": "stream",
          "name": "stdout",
          "text": [
            "Best Android OS version based on Ratings: Android 5.1\n",
            "Worst Android OS version based on Ratings: Android 5.0\n"
          ]
        }
      ]
    },
    {
      "cell_type": "markdown",
      "metadata": {
        "id": "NalCC4P83Jtn"
      },
      "source": [
        "Determining average ratings by day:"
      ]
    },
    {
      "cell_type": "code",
      "metadata": {
        "colab": {
          "base_uri": "https://localhost:8080/",
          "height": 203
        },
        "id": "r3dXK2U53HA6",
        "outputId": "060dfe7e-6ca2-45db-9bb9-1cbf6ef69d68"
      },
      "source": [
        "rating.daily_average_rating = ratings.total_average_rating.pct_change()\n",
        "rating.head()"
      ],
      "execution_count": 52,
      "outputs": [
        {
          "output_type": "execute_result",
          "data": {
            "text/html": [
              "<div>\n",
              "<style scoped>\n",
              "    .dataframe tbody tr th:only-of-type {\n",
              "        vertical-align: middle;\n",
              "    }\n",
              "\n",
              "    .dataframe tbody tr th {\n",
              "        vertical-align: top;\n",
              "    }\n",
              "\n",
              "    .dataframe thead th {\n",
              "        text-align: right;\n",
              "    }\n",
              "</style>\n",
              "<table border=\"1\" class=\"dataframe\">\n",
              "  <thead>\n",
              "    <tr style=\"text-align: right;\">\n",
              "      <th></th>\n",
              "      <th>Date</th>\n",
              "      <th>Package Name</th>\n",
              "      <th>Android OS Version</th>\n",
              "      <th>Daily Average Rating</th>\n",
              "      <th>Total Average Rating</th>\n",
              "    </tr>\n",
              "  </thead>\n",
              "  <tbody>\n",
              "    <tr>\n",
              "      <th>0</th>\n",
              "      <td>2021-07-01</td>\n",
              "      <td>in.evstudios.josh</td>\n",
              "      <td>Android 4.4</td>\n",
              "      <td>NaN</td>\n",
              "      <td>2.00</td>\n",
              "    </tr>\n",
              "    <tr>\n",
              "      <th>1</th>\n",
              "      <td>2021-07-01</td>\n",
              "      <td>in.evstudios.josh</td>\n",
              "      <td>Android 5.0</td>\n",
              "      <td>NaN</td>\n",
              "      <td>1.00</td>\n",
              "    </tr>\n",
              "    <tr>\n",
              "      <th>2</th>\n",
              "      <td>2021-07-01</td>\n",
              "      <td>in.evstudios.josh</td>\n",
              "      <td>Android 5.1</td>\n",
              "      <td>NaN</td>\n",
              "      <td>4.50</td>\n",
              "    </tr>\n",
              "    <tr>\n",
              "      <th>3</th>\n",
              "      <td>2021-07-01</td>\n",
              "      <td>in.evstudios.josh</td>\n",
              "      <td>Android 6.0</td>\n",
              "      <td>NaN</td>\n",
              "      <td>3.92</td>\n",
              "    </tr>\n",
              "    <tr>\n",
              "      <th>4</th>\n",
              "      <td>2021-07-01</td>\n",
              "      <td>in.evstudios.josh</td>\n",
              "      <td>Android 7.0</td>\n",
              "      <td>NaN</td>\n",
              "      <td>4.22</td>\n",
              "    </tr>\n",
              "  </tbody>\n",
              "</table>\n",
              "</div>"
            ],
            "text/plain": [
              "         Date       Package Name  ... Daily Average Rating  Total Average Rating\n",
              "0  2021-07-01  in.evstudios.josh  ...                  NaN                  2.00\n",
              "1  2021-07-01  in.evstudios.josh  ...                  NaN                  1.00\n",
              "2  2021-07-01  in.evstudios.josh  ...                  NaN                  4.50\n",
              "3  2021-07-01  in.evstudios.josh  ...                  NaN                  3.92\n",
              "4  2021-07-01  in.evstudios.josh  ...                  NaN                  4.22\n",
              "\n",
              "[5 rows x 5 columns]"
            ]
          },
          "metadata": {},
          "execution_count": 52
        }
      ]
    },
    {
      "cell_type": "code",
      "metadata": {
        "colab": {
          "base_uri": "https://localhost:8080/",
          "height": 337
        },
        "id": "__U0Mes83NtS",
        "outputId": "ce157462-9825-4495-8469-c1e82b943d67"
      },
      "source": [
        "import datetime as dt\n",
        "#ratings['monthe'] = ratings.date.apply(lambda t: t.month)\n",
        "ratings['day'] = ratings.date.apply(lambda t: t.day)\n"
      ],
      "execution_count": 66,
      "outputs": [
        {
          "output_type": "error",
          "ename": "AttributeError",
          "evalue": "ignored",
          "traceback": [
            "\u001b[0;31m---------------------------------------------------------------------------\u001b[0m",
            "\u001b[0;31mAttributeError\u001b[0m                            Traceback (most recent call last)",
            "\u001b[0;32m<ipython-input-66-e88fc500f161>\u001b[0m in \u001b[0;36m<module>\u001b[0;34m()\u001b[0m\n\u001b[1;32m      1\u001b[0m \u001b[0;32mimport\u001b[0m \u001b[0mdatetime\u001b[0m \u001b[0;32mas\u001b[0m \u001b[0mdt\u001b[0m\u001b[0;34m\u001b[0m\u001b[0;34m\u001b[0m\u001b[0m\n\u001b[1;32m      2\u001b[0m \u001b[0;31m#ratings['monthe'] = ratings.date.apply(lambda t: t.month)\u001b[0m\u001b[0;34m\u001b[0m\u001b[0;34m\u001b[0m\u001b[0;34m\u001b[0m\u001b[0m\n\u001b[0;32m----> 3\u001b[0;31m \u001b[0mratings\u001b[0m\u001b[0;34m[\u001b[0m\u001b[0;34m'day'\u001b[0m\u001b[0;34m]\u001b[0m \u001b[0;34m=\u001b[0m \u001b[0mratings\u001b[0m\u001b[0;34m.\u001b[0m\u001b[0mdate\u001b[0m\u001b[0;34m.\u001b[0m\u001b[0mapply\u001b[0m\u001b[0;34m(\u001b[0m\u001b[0;32mlambda\u001b[0m \u001b[0mt\u001b[0m\u001b[0;34m:\u001b[0m \u001b[0mt\u001b[0m\u001b[0;34m.\u001b[0m\u001b[0mday\u001b[0m\u001b[0;34m)\u001b[0m\u001b[0;34m\u001b[0m\u001b[0;34m\u001b[0m\u001b[0m\n\u001b[0m",
            "\u001b[0;32m/usr/local/lib/python3.7/dist-packages/pandas/core/series.py\u001b[0m in \u001b[0;36mapply\u001b[0;34m(self, func, convert_dtype, args, **kwds)\u001b[0m\n\u001b[1;32m   4211\u001b[0m             \u001b[0;32melse\u001b[0m\u001b[0;34m:\u001b[0m\u001b[0;34m\u001b[0m\u001b[0;34m\u001b[0m\u001b[0m\n\u001b[1;32m   4212\u001b[0m                 \u001b[0mvalues\u001b[0m \u001b[0;34m=\u001b[0m \u001b[0mself\u001b[0m\u001b[0;34m.\u001b[0m\u001b[0mastype\u001b[0m\u001b[0;34m(\u001b[0m\u001b[0mobject\u001b[0m\u001b[0;34m)\u001b[0m\u001b[0;34m.\u001b[0m\u001b[0m_values\u001b[0m\u001b[0;34m\u001b[0m\u001b[0;34m\u001b[0m\u001b[0m\n\u001b[0;32m-> 4213\u001b[0;31m                 \u001b[0mmapped\u001b[0m \u001b[0;34m=\u001b[0m \u001b[0mlib\u001b[0m\u001b[0;34m.\u001b[0m\u001b[0mmap_infer\u001b[0m\u001b[0;34m(\u001b[0m\u001b[0mvalues\u001b[0m\u001b[0;34m,\u001b[0m \u001b[0mf\u001b[0m\u001b[0;34m,\u001b[0m \u001b[0mconvert\u001b[0m\u001b[0;34m=\u001b[0m\u001b[0mconvert_dtype\u001b[0m\u001b[0;34m)\u001b[0m\u001b[0;34m\u001b[0m\u001b[0;34m\u001b[0m\u001b[0m\n\u001b[0m\u001b[1;32m   4214\u001b[0m \u001b[0;34m\u001b[0m\u001b[0m\n\u001b[1;32m   4215\u001b[0m         \u001b[0;32mif\u001b[0m \u001b[0mlen\u001b[0m\u001b[0;34m(\u001b[0m\u001b[0mmapped\u001b[0m\u001b[0;34m)\u001b[0m \u001b[0;32mand\u001b[0m \u001b[0misinstance\u001b[0m\u001b[0;34m(\u001b[0m\u001b[0mmapped\u001b[0m\u001b[0;34m[\u001b[0m\u001b[0;36m0\u001b[0m\u001b[0;34m]\u001b[0m\u001b[0;34m,\u001b[0m \u001b[0mSeries\u001b[0m\u001b[0;34m)\u001b[0m\u001b[0;34m:\u001b[0m\u001b[0;34m\u001b[0m\u001b[0;34m\u001b[0m\u001b[0m\n",
            "\u001b[0;32mpandas/_libs/lib.pyx\u001b[0m in \u001b[0;36mpandas._libs.lib.map_infer\u001b[0;34m()\u001b[0m\n",
            "\u001b[0;32m<ipython-input-66-e88fc500f161>\u001b[0m in \u001b[0;36m<lambda>\u001b[0;34m(t)\u001b[0m\n\u001b[1;32m      1\u001b[0m \u001b[0;32mimport\u001b[0m \u001b[0mdatetime\u001b[0m \u001b[0;32mas\u001b[0m \u001b[0mdt\u001b[0m\u001b[0;34m\u001b[0m\u001b[0;34m\u001b[0m\u001b[0m\n\u001b[1;32m      2\u001b[0m \u001b[0;31m#ratings['monthe'] = ratings.date.apply(lambda t: t.month)\u001b[0m\u001b[0;34m\u001b[0m\u001b[0;34m\u001b[0m\u001b[0;34m\u001b[0m\u001b[0m\n\u001b[0;32m----> 3\u001b[0;31m \u001b[0mratings\u001b[0m\u001b[0;34m[\u001b[0m\u001b[0;34m'day'\u001b[0m\u001b[0;34m]\u001b[0m \u001b[0;34m=\u001b[0m \u001b[0mratings\u001b[0m\u001b[0;34m.\u001b[0m\u001b[0mdate\u001b[0m\u001b[0;34m.\u001b[0m\u001b[0mapply\u001b[0m\u001b[0;34m(\u001b[0m\u001b[0;32mlambda\u001b[0m \u001b[0mt\u001b[0m\u001b[0;34m:\u001b[0m \u001b[0mt\u001b[0m\u001b[0;34m.\u001b[0m\u001b[0mday\u001b[0m\u001b[0;34m)\u001b[0m\u001b[0;34m\u001b[0m\u001b[0;34m\u001b[0m\u001b[0m\n\u001b[0m",
            "\u001b[0;31mAttributeError\u001b[0m: 'str' object has no attribute 'day'"
          ]
        }
      ]
    },
    {
      "cell_type": "markdown",
      "metadata": {
        "id": "1MmPAY4P3fh0"
      },
      "source": [
        "Percentage change over time:"
      ]
    },
    {
      "cell_type": "code",
      "metadata": {
        "colab": {
          "base_uri": "https://localhost:8080/",
          "height": 312
        },
        "id": "KBFXkp763jHI",
        "outputId": "1a24738f-156c-4d63-a61d-f695d74c8e99"
      },
      "source": [
        "title1 = 'Percentage Change of Ratings over Time'\n",
        "title2 = 'Percentage Change of Ratings over Month'\n",
        "plt.figure(figsize = (18,4))\n",
        "plt.subplot(1,2,1)\n",
        "ratings.groupby( ['date'] ).total_average_rating.mean().pct_change().plot(kind = 'line', title = title1)\n",
        "plt.subplot(1,2,2)\n",
        "#ratings.groupby( ['monthe'] ).total_average_rating.mean().pct_change().plot(kind = 'line', title = title2)"
      ],
      "execution_count": 67,
      "outputs": [
        {
          "output_type": "execute_result",
          "data": {
            "text/plain": [
              "<matplotlib.axes._subplots.AxesSubplot at 0x7f3992297dd0>"
            ]
          },
          "metadata": {},
          "execution_count": 67
        },
        {
          "output_type": "display_data",
          "data": {
            "image/png": "[encoded data removed]",
            "text/plain": [
              "<Figure size 1296x288 with 2 Axes>"
            ]
          },
          "metadata": {
            "needs_background": "light"
          }
        }
      ]
    },
    {
      "cell_type": "markdown",
      "metadata": {
        "id": "WkpEb3CT3sPq"
      },
      "source": [
        "Determining average device installed over time and how they change:"
      ]
    },
    {
      "cell_type": "code",
      "metadata": {
        "colab": {
          "base_uri": "https://localhost:8080/",
          "height": 594
        },
        "id": "_DNd6OQz3qUG",
        "outputId": "112bfbc6-6fae-444c-cc1c-56c5c5ed5727"
      },
      "source": [
        "plt.figure(figsize = (18,4))\n",
        "install['Daily Device Installs'].pct_change().plot(kind = 'line', title = 'Percentage Change of Daily Device Installs')\n",
        "plt.show()\n",
        "plt.figure(figsize = (18,4))\n",
        "install.groupby('Date')['Daily Device Installs'].mean().pct_change().plot(kind = 'line', title = 'Percentage Change of Daily Device Installs over time')\n",
        "plt.show()"
      ],
      "execution_count": 69,
      "outputs": [
        {
          "output_type": "display_data",
          "data": {
            "image/png": "[encoded data removed]",
            "text/plain": [
              "<Figure size 1296x288 with 1 Axes>"
            ]
          },
          "metadata": {
            "needs_background": "light"
          }
        },
        {
          "output_type": "display_data",
          "data": {
            "image/png": "[encoded data removed]",
            "text/plain": [
              "<Figure size 1296x288 with 1 Axes>"
            ]
          },
          "metadata": {
            "needs_background": "light"
          }
        }
      ]
    },
    {
      "cell_type": "markdown",
      "metadata": {
        "id": "INQ8pc4R32Xq"
      },
      "source": [
        "Comparing install and uninstall rates:"
      ]
    },
    {
      "cell_type": "code",
      "metadata": {
        "colab": {
          "base_uri": "https://localhost:8080/",
          "height": 295
        },
        "id": "TN-MLGtT32lQ",
        "outputId": "99542b8f-fbad-4e80-e361-fcbc35327fa8"
      },
      "source": [
        "#install['Daily User Uninstalls']/install['Daily User Installs']\n",
        "in_u_rate = install['Daily User Installs']/install['Daily User Uninstalls']\n",
        "plt.figure(figsize = (18,4))\n",
        "plt.title( 'Install to Uninstall rates over time')\n",
        "sns.lineplot(x = install.Date, y = in_u_rate)\n",
        "plt.show()"
      ],
      "execution_count": 70,
      "outputs": [
        {
          "output_type": "display_data",
          "data": {
            "image/png": "[encoded data removed]",
            "text/plain": [
              "<Figure size 1296x288 with 1 Axes>"
            ]
          },
          "metadata": {
            "needs_background": "light"
          }
        }
      ]
    }
  ]
}