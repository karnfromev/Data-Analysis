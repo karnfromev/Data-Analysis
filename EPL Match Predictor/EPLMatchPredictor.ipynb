{
  "nbformat": 4,
  "nbformat_minor": 0,
  "metadata": {
    "colab": {
      "name": "EPLMatchPredictor.ipynb",
      "provenance": []
    },
    "kernelspec": {
      "name": "python3",
      "display_name": "Python 3"
    },
    "language_info": {
      "name": "python"
    }
  },
  "cells": [
    {
      "cell_type": "markdown",
      "metadata": {
        "id": "jxTQuWSX61iE"
      },
      "source": [
        "The objective of this notebook is to determine the most accurate model which can be used to predict EPL team winners (home or away)."
      ]
    },
    {
      "cell_type": "code",
      "metadata": {
        "id": "0jogRxt56sto"
      },
      "source": [
        "%matplotlib inline\n",
        "import pandas as pd\n",
        "import numpy as np\n",
        "import seaborn as sns\n",
        "import matplotlib.pyplot as plt\n",
        "\n",
        "from sklearn.linear_model import LogisticRegression\n",
        "from sklearn.svm import SVC\n",
        "from sklearn.ensemble import RandomForestClassifier\n",
        "from sklearn.preprocessing import LabelEncoder"
      ],
      "execution_count": 2,
      "outputs": []
    },
    {
      "cell_type": "code",
      "metadata": {
        "colab": {
          "base_uri": "https://localhost:8080/",
          "height": 819
        },
        "id": "rbLQQSoT7Dv1",
        "outputId": "f99881fa-34ab-4270-91d3-d42b7062f3bf"
      },
      "source": [
        "data_11_12 = pd.read_csv(\"11_12.csv\", parse_dates=True)\n",
        "data_12_13 = pd.read_csv(\"12_13.csv\", parse_dates=True)\n",
        "data_13_14 = pd.read_csv(\"13_14.csv\", parse_dates=True)\n",
        "data_14_15 = pd.read_csv(\"14_15.csv\", parse_dates=True)\n",
        "data_15_16 = pd.read_csv(\"15_16.csv\", parse_dates=True)\n",
        "data_16_17 = pd.read_csv(\"16_17.csv\", parse_dates=True)\n",
        "data_17_18 = pd.read_csv(\"17_18.csv\", parse_dates=True)\n",
        "data_18_19 = pd.read_csv(\"18_19.csv\", parse_dates=True)\n",
        "data_19_20 = pd.read_csv(\"19_20.csv\", parse_dates=True)\n",
        "data_20_21 = pd.read_csv(\"20_21.csv\", parse_dates=True)\n",
        "\n",
        "df = pd.concat([data_11_12 , data_12_13 , data_13_14 , data_14_15 , data_15_16 , data_16_17 , \n",
        "                data_17_18 , data_18_19 , data_19_20 , data_20_21] , axis=0 , join='inner')\n",
        "\n",
        "\n",
        "df.tail(20)"
      ],
      "execution_count": 3,
      "outputs": [
        {
          "output_type": "execute_result",
          "data": {
            "text/html": [
              "<div>\n",
              "<style scoped>\n",
              "    .dataframe tbody tr th:only-of-type {\n",
              "        vertical-align: middle;\n",
              "    }\n",
              "\n",
              "    .dataframe tbody tr th {\n",
              "        vertical-align: top;\n",
              "    }\n",
              "\n",
              "    .dataframe thead th {\n",
              "        text-align: right;\n",
              "    }\n",
              "</style>\n",
              "<table border=\"1\" class=\"dataframe\">\n",
              "  <thead>\n",
              "    <tr style=\"text-align: right;\">\n",
              "      <th></th>\n",
              "      <th>Div</th>\n",
              "      <th>Date</th>\n",
              "      <th>HomeTeam</th>\n",
              "      <th>AwayTeam</th>\n",
              "      <th>FTHG</th>\n",
              "      <th>FTAG</th>\n",
              "      <th>FTR</th>\n",
              "      <th>HTHG</th>\n",
              "      <th>HTAG</th>\n",
              "      <th>HTR</th>\n",
              "      <th>Referee</th>\n",
              "      <th>HS</th>\n",
              "      <th>AS</th>\n",
              "      <th>HST</th>\n",
              "      <th>AST</th>\n",
              "      <th>HF</th>\n",
              "      <th>AF</th>\n",
              "      <th>HC</th>\n",
              "      <th>AC</th>\n",
              "      <th>HY</th>\n",
              "      <th>AY</th>\n",
              "      <th>HR</th>\n",
              "      <th>AR</th>\n",
              "      <th>B365H</th>\n",
              "      <th>B365D</th>\n",
              "      <th>B365A</th>\n",
              "      <th>BWH</th>\n",
              "      <th>BWD</th>\n",
              "      <th>BWA</th>\n",
              "      <th>IWH</th>\n",
              "      <th>IWD</th>\n",
              "      <th>IWA</th>\n",
              "      <th>WHH</th>\n",
              "      <th>WHD</th>\n",
              "      <th>WHA</th>\n",
              "      <th>VCH</th>\n",
              "      <th>VCD</th>\n",
              "      <th>VCA</th>\n",
              "    </tr>\n",
              "  </thead>\n",
              "  <tbody>\n",
              "    <tr>\n",
              "      <th>360</th>\n",
              "      <td>E0</td>\n",
              "      <td>18/05/2021</td>\n",
              "      <td>Man United</td>\n",
              "      <td>Fulham</td>\n",
              "      <td>1.0</td>\n",
              "      <td>1.0</td>\n",
              "      <td>D</td>\n",
              "      <td>1.0</td>\n",
              "      <td>0.0</td>\n",
              "      <td>H</td>\n",
              "      <td>L Mason</td>\n",
              "      <td>13.0</td>\n",
              "      <td>8.0</td>\n",
              "      <td>6.0</td>\n",
              "      <td>5.0</td>\n",
              "      <td>10.0</td>\n",
              "      <td>15.0</td>\n",
              "      <td>6.0</td>\n",
              "      <td>1.0</td>\n",
              "      <td>2.0</td>\n",
              "      <td>3.0</td>\n",
              "      <td>0.0</td>\n",
              "      <td>0.0</td>\n",
              "      <td>1.28</td>\n",
              "      <td>6.00</td>\n",
              "      <td>9.00</td>\n",
              "      <td>1.30</td>\n",
              "      <td>5.75</td>\n",
              "      <td>9.00</td>\n",
              "      <td>1.33</td>\n",
              "      <td>5.50</td>\n",
              "      <td>8.25</td>\n",
              "      <td>1.30</td>\n",
              "      <td>5.5</td>\n",
              "      <td>9.00</td>\n",
              "      <td>1.30</td>\n",
              "      <td>5.75</td>\n",
              "      <td>9.50</td>\n",
              "    </tr>\n",
              "    <tr>\n",
              "      <th>361</th>\n",
              "      <td>E0</td>\n",
              "      <td>18/05/2021</td>\n",
              "      <td>Southampton</td>\n",
              "      <td>Leeds</td>\n",
              "      <td>0.0</td>\n",
              "      <td>2.0</td>\n",
              "      <td>A</td>\n",
              "      <td>0.0</td>\n",
              "      <td>0.0</td>\n",
              "      <td>D</td>\n",
              "      <td>P Bankes</td>\n",
              "      <td>18.0</td>\n",
              "      <td>15.0</td>\n",
              "      <td>3.0</td>\n",
              "      <td>7.0</td>\n",
              "      <td>10.0</td>\n",
              "      <td>12.0</td>\n",
              "      <td>4.0</td>\n",
              "      <td>5.0</td>\n",
              "      <td>0.0</td>\n",
              "      <td>3.0</td>\n",
              "      <td>0.0</td>\n",
              "      <td>0.0</td>\n",
              "      <td>2.55</td>\n",
              "      <td>3.90</td>\n",
              "      <td>2.50</td>\n",
              "      <td>2.70</td>\n",
              "      <td>3.75</td>\n",
              "      <td>2.40</td>\n",
              "      <td>2.55</td>\n",
              "      <td>3.75</td>\n",
              "      <td>2.55</td>\n",
              "      <td>2.62</td>\n",
              "      <td>3.6</td>\n",
              "      <td>2.50</td>\n",
              "      <td>2.63</td>\n",
              "      <td>3.75</td>\n",
              "      <td>2.55</td>\n",
              "    </tr>\n",
              "    <tr>\n",
              "      <th>362</th>\n",
              "      <td>E0</td>\n",
              "      <td>18/05/2021</td>\n",
              "      <td>Brighton</td>\n",
              "      <td>Man City</td>\n",
              "      <td>3.0</td>\n",
              "      <td>2.0</td>\n",
              "      <td>H</td>\n",
              "      <td>0.0</td>\n",
              "      <td>1.0</td>\n",
              "      <td>A</td>\n",
              "      <td>S Attwell</td>\n",
              "      <td>19.0</td>\n",
              "      <td>8.0</td>\n",
              "      <td>6.0</td>\n",
              "      <td>4.0</td>\n",
              "      <td>13.0</td>\n",
              "      <td>11.0</td>\n",
              "      <td>5.0</td>\n",
              "      <td>3.0</td>\n",
              "      <td>3.0</td>\n",
              "      <td>3.0</td>\n",
              "      <td>0.0</td>\n",
              "      <td>1.0</td>\n",
              "      <td>7.00</td>\n",
              "      <td>4.50</td>\n",
              "      <td>1.45</td>\n",
              "      <td>6.75</td>\n",
              "      <td>4.40</td>\n",
              "      <td>1.48</td>\n",
              "      <td>6.50</td>\n",
              "      <td>4.40</td>\n",
              "      <td>1.50</td>\n",
              "      <td>7.00</td>\n",
              "      <td>4.2</td>\n",
              "      <td>1.47</td>\n",
              "      <td>7.50</td>\n",
              "      <td>4.50</td>\n",
              "      <td>1.45</td>\n",
              "    </tr>\n",
              "    <tr>\n",
              "      <th>363</th>\n",
              "      <td>E0</td>\n",
              "      <td>18/05/2021</td>\n",
              "      <td>Chelsea</td>\n",
              "      <td>Leicester</td>\n",
              "      <td>2.0</td>\n",
              "      <td>1.0</td>\n",
              "      <td>H</td>\n",
              "      <td>0.0</td>\n",
              "      <td>0.0</td>\n",
              "      <td>D</td>\n",
              "      <td>M Dean</td>\n",
              "      <td>17.0</td>\n",
              "      <td>7.0</td>\n",
              "      <td>6.0</td>\n",
              "      <td>3.0</td>\n",
              "      <td>15.0</td>\n",
              "      <td>16.0</td>\n",
              "      <td>6.0</td>\n",
              "      <td>5.0</td>\n",
              "      <td>2.0</td>\n",
              "      <td>4.0</td>\n",
              "      <td>0.0</td>\n",
              "      <td>0.0</td>\n",
              "      <td>1.70</td>\n",
              "      <td>3.75</td>\n",
              "      <td>5.00</td>\n",
              "      <td>1.70</td>\n",
              "      <td>3.70</td>\n",
              "      <td>5.25</td>\n",
              "      <td>1.70</td>\n",
              "      <td>3.65</td>\n",
              "      <td>5.25</td>\n",
              "      <td>1.70</td>\n",
              "      <td>3.6</td>\n",
              "      <td>5.25</td>\n",
              "      <td>1.70</td>\n",
              "      <td>3.70</td>\n",
              "      <td>5.50</td>\n",
              "    </tr>\n",
              "    <tr>\n",
              "      <th>364</th>\n",
              "      <td>E0</td>\n",
              "      <td>19/05/2021</td>\n",
              "      <td>Everton</td>\n",
              "      <td>Wolves</td>\n",
              "      <td>1.0</td>\n",
              "      <td>0.0</td>\n",
              "      <td>H</td>\n",
              "      <td>0.0</td>\n",
              "      <td>0.0</td>\n",
              "      <td>D</td>\n",
              "      <td>A Madley</td>\n",
              "      <td>14.0</td>\n",
              "      <td>9.0</td>\n",
              "      <td>4.0</td>\n",
              "      <td>3.0</td>\n",
              "      <td>11.0</td>\n",
              "      <td>11.0</td>\n",
              "      <td>7.0</td>\n",
              "      <td>12.0</td>\n",
              "      <td>0.0</td>\n",
              "      <td>2.0</td>\n",
              "      <td>0.0</td>\n",
              "      <td>0.0</td>\n",
              "      <td>1.85</td>\n",
              "      <td>3.60</td>\n",
              "      <td>4.20</td>\n",
              "      <td>1.90</td>\n",
              "      <td>3.70</td>\n",
              "      <td>4.00</td>\n",
              "      <td>1.90</td>\n",
              "      <td>3.55</td>\n",
              "      <td>4.20</td>\n",
              "      <td>1.88</td>\n",
              "      <td>3.4</td>\n",
              "      <td>4.20</td>\n",
              "      <td>1.85</td>\n",
              "      <td>3.50</td>\n",
              "      <td>4.50</td>\n",
              "    </tr>\n",
              "    <tr>\n",
              "      <th>365</th>\n",
              "      <td>E0</td>\n",
              "      <td>19/05/2021</td>\n",
              "      <td>Newcastle</td>\n",
              "      <td>Sheffield United</td>\n",
              "      <td>1.0</td>\n",
              "      <td>0.0</td>\n",
              "      <td>H</td>\n",
              "      <td>1.0</td>\n",
              "      <td>0.0</td>\n",
              "      <td>H</td>\n",
              "      <td>R Jones</td>\n",
              "      <td>16.0</td>\n",
              "      <td>11.0</td>\n",
              "      <td>5.0</td>\n",
              "      <td>1.0</td>\n",
              "      <td>7.0</td>\n",
              "      <td>7.0</td>\n",
              "      <td>5.0</td>\n",
              "      <td>2.0</td>\n",
              "      <td>0.0</td>\n",
              "      <td>2.0</td>\n",
              "      <td>0.0</td>\n",
              "      <td>0.0</td>\n",
              "      <td>1.72</td>\n",
              "      <td>3.80</td>\n",
              "      <td>4.75</td>\n",
              "      <td>1.75</td>\n",
              "      <td>3.80</td>\n",
              "      <td>4.75</td>\n",
              "      <td>1.73</td>\n",
              "      <td>3.85</td>\n",
              "      <td>4.60</td>\n",
              "      <td>1.73</td>\n",
              "      <td>3.7</td>\n",
              "      <td>4.75</td>\n",
              "      <td>1.73</td>\n",
              "      <td>3.80</td>\n",
              "      <td>4.80</td>\n",
              "    </tr>\n",
              "    <tr>\n",
              "      <th>366</th>\n",
              "      <td>E0</td>\n",
              "      <td>19/05/2021</td>\n",
              "      <td>Tottenham</td>\n",
              "      <td>Aston Villa</td>\n",
              "      <td>1.0</td>\n",
              "      <td>2.0</td>\n",
              "      <td>A</td>\n",
              "      <td>1.0</td>\n",
              "      <td>2.0</td>\n",
              "      <td>A</td>\n",
              "      <td>C Pawson</td>\n",
              "      <td>10.0</td>\n",
              "      <td>20.0</td>\n",
              "      <td>4.0</td>\n",
              "      <td>4.0</td>\n",
              "      <td>14.0</td>\n",
              "      <td>13.0</td>\n",
              "      <td>4.0</td>\n",
              "      <td>5.0</td>\n",
              "      <td>1.0</td>\n",
              "      <td>1.0</td>\n",
              "      <td>0.0</td>\n",
              "      <td>0.0</td>\n",
              "      <td>1.50</td>\n",
              "      <td>4.50</td>\n",
              "      <td>6.00</td>\n",
              "      <td>1.53</td>\n",
              "      <td>4.50</td>\n",
              "      <td>5.75</td>\n",
              "      <td>1.53</td>\n",
              "      <td>4.70</td>\n",
              "      <td>5.50</td>\n",
              "      <td>1.50</td>\n",
              "      <td>4.4</td>\n",
              "      <td>6.00</td>\n",
              "      <td>1.50</td>\n",
              "      <td>4.60</td>\n",
              "      <td>6.00</td>\n",
              "    </tr>\n",
              "    <tr>\n",
              "      <th>367</th>\n",
              "      <td>E0</td>\n",
              "      <td>19/05/2021</td>\n",
              "      <td>Crystal Palace</td>\n",
              "      <td>Arsenal</td>\n",
              "      <td>1.0</td>\n",
              "      <td>3.0</td>\n",
              "      <td>A</td>\n",
              "      <td>0.0</td>\n",
              "      <td>1.0</td>\n",
              "      <td>A</td>\n",
              "      <td>A Taylor</td>\n",
              "      <td>12.0</td>\n",
              "      <td>6.0</td>\n",
              "      <td>6.0</td>\n",
              "      <td>3.0</td>\n",
              "      <td>7.0</td>\n",
              "      <td>7.0</td>\n",
              "      <td>6.0</td>\n",
              "      <td>7.0</td>\n",
              "      <td>2.0</td>\n",
              "      <td>1.0</td>\n",
              "      <td>0.0</td>\n",
              "      <td>0.0</td>\n",
              "      <td>6.00</td>\n",
              "      <td>4.50</td>\n",
              "      <td>1.50</td>\n",
              "      <td>5.75</td>\n",
              "      <td>4.40</td>\n",
              "      <td>1.55</td>\n",
              "      <td>5.75</td>\n",
              "      <td>4.40</td>\n",
              "      <td>1.55</td>\n",
              "      <td>6.50</td>\n",
              "      <td>4.2</td>\n",
              "      <td>1.50</td>\n",
              "      <td>6.50</td>\n",
              "      <td>4.33</td>\n",
              "      <td>1.50</td>\n",
              "    </tr>\n",
              "    <tr>\n",
              "      <th>368</th>\n",
              "      <td>E0</td>\n",
              "      <td>19/05/2021</td>\n",
              "      <td>Burnley</td>\n",
              "      <td>Liverpool</td>\n",
              "      <td>0.0</td>\n",
              "      <td>3.0</td>\n",
              "      <td>A</td>\n",
              "      <td>0.0</td>\n",
              "      <td>1.0</td>\n",
              "      <td>A</td>\n",
              "      <td>C Kavanagh</td>\n",
              "      <td>10.0</td>\n",
              "      <td>20.0</td>\n",
              "      <td>4.0</td>\n",
              "      <td>3.0</td>\n",
              "      <td>10.0</td>\n",
              "      <td>7.0</td>\n",
              "      <td>6.0</td>\n",
              "      <td>7.0</td>\n",
              "      <td>0.0</td>\n",
              "      <td>0.0</td>\n",
              "      <td>0.0</td>\n",
              "      <td>0.0</td>\n",
              "      <td>11.00</td>\n",
              "      <td>7.00</td>\n",
              "      <td>1.22</td>\n",
              "      <td>10.50</td>\n",
              "      <td>6.50</td>\n",
              "      <td>1.25</td>\n",
              "      <td>11.00</td>\n",
              "      <td>7.00</td>\n",
              "      <td>1.22</td>\n",
              "      <td>11.00</td>\n",
              "      <td>6.0</td>\n",
              "      <td>1.24</td>\n",
              "      <td>11.50</td>\n",
              "      <td>7.00</td>\n",
              "      <td>1.22</td>\n",
              "    </tr>\n",
              "    <tr>\n",
              "      <th>369</th>\n",
              "      <td>E0</td>\n",
              "      <td>19/05/2021</td>\n",
              "      <td>West Brom</td>\n",
              "      <td>West Ham</td>\n",
              "      <td>1.0</td>\n",
              "      <td>3.0</td>\n",
              "      <td>A</td>\n",
              "      <td>1.0</td>\n",
              "      <td>1.0</td>\n",
              "      <td>D</td>\n",
              "      <td>M Oliver</td>\n",
              "      <td>14.0</td>\n",
              "      <td>21.0</td>\n",
              "      <td>4.0</td>\n",
              "      <td>9.0</td>\n",
              "      <td>8.0</td>\n",
              "      <td>11.0</td>\n",
              "      <td>6.0</td>\n",
              "      <td>8.0</td>\n",
              "      <td>2.0</td>\n",
              "      <td>2.0</td>\n",
              "      <td>0.0</td>\n",
              "      <td>0.0</td>\n",
              "      <td>5.00</td>\n",
              "      <td>4.33</td>\n",
              "      <td>1.60</td>\n",
              "      <td>5.25</td>\n",
              "      <td>4.20</td>\n",
              "      <td>1.62</td>\n",
              "      <td>5.25</td>\n",
              "      <td>4.30</td>\n",
              "      <td>1.60</td>\n",
              "      <td>5.25</td>\n",
              "      <td>4.2</td>\n",
              "      <td>1.60</td>\n",
              "      <td>5.50</td>\n",
              "      <td>4.20</td>\n",
              "      <td>1.60</td>\n",
              "    </tr>\n",
              "    <tr>\n",
              "      <th>370</th>\n",
              "      <td>E0</td>\n",
              "      <td>23/05/2021</td>\n",
              "      <td>Arsenal</td>\n",
              "      <td>Brighton</td>\n",
              "      <td>2.0</td>\n",
              "      <td>0.0</td>\n",
              "      <td>H</td>\n",
              "      <td>0.0</td>\n",
              "      <td>0.0</td>\n",
              "      <td>D</td>\n",
              "      <td>J Moss</td>\n",
              "      <td>16.0</td>\n",
              "      <td>5.0</td>\n",
              "      <td>5.0</td>\n",
              "      <td>1.0</td>\n",
              "      <td>10.0</td>\n",
              "      <td>8.0</td>\n",
              "      <td>11.0</td>\n",
              "      <td>3.0</td>\n",
              "      <td>0.0</td>\n",
              "      <td>0.0</td>\n",
              "      <td>0.0</td>\n",
              "      <td>0.0</td>\n",
              "      <td>1.57</td>\n",
              "      <td>4.33</td>\n",
              "      <td>5.25</td>\n",
              "      <td>1.62</td>\n",
              "      <td>4.10</td>\n",
              "      <td>5.25</td>\n",
              "      <td>1.60</td>\n",
              "      <td>4.30</td>\n",
              "      <td>5.25</td>\n",
              "      <td>1.62</td>\n",
              "      <td>4.2</td>\n",
              "      <td>5.25</td>\n",
              "      <td>1.62</td>\n",
              "      <td>4.10</td>\n",
              "      <td>5.50</td>\n",
              "    </tr>\n",
              "    <tr>\n",
              "      <th>371</th>\n",
              "      <td>E0</td>\n",
              "      <td>23/05/2021</td>\n",
              "      <td>Aston Villa</td>\n",
              "      <td>Chelsea</td>\n",
              "      <td>2.0</td>\n",
              "      <td>1.0</td>\n",
              "      <td>H</td>\n",
              "      <td>1.0</td>\n",
              "      <td>0.0</td>\n",
              "      <td>H</td>\n",
              "      <td>S Attwell</td>\n",
              "      <td>6.0</td>\n",
              "      <td>23.0</td>\n",
              "      <td>3.0</td>\n",
              "      <td>7.0</td>\n",
              "      <td>11.0</td>\n",
              "      <td>12.0</td>\n",
              "      <td>2.0</td>\n",
              "      <td>9.0</td>\n",
              "      <td>3.0</td>\n",
              "      <td>3.0</td>\n",
              "      <td>0.0</td>\n",
              "      <td>1.0</td>\n",
              "      <td>6.50</td>\n",
              "      <td>4.60</td>\n",
              "      <td>1.45</td>\n",
              "      <td>6.50</td>\n",
              "      <td>4.50</td>\n",
              "      <td>1.48</td>\n",
              "      <td>6.75</td>\n",
              "      <td>4.60</td>\n",
              "      <td>1.45</td>\n",
              "      <td>7.00</td>\n",
              "      <td>4.4</td>\n",
              "      <td>1.47</td>\n",
              "      <td>7.00</td>\n",
              "      <td>4.60</td>\n",
              "      <td>1.45</td>\n",
              "    </tr>\n",
              "    <tr>\n",
              "      <th>372</th>\n",
              "      <td>E0</td>\n",
              "      <td>23/05/2021</td>\n",
              "      <td>Fulham</td>\n",
              "      <td>Newcastle</td>\n",
              "      <td>0.0</td>\n",
              "      <td>2.0</td>\n",
              "      <td>A</td>\n",
              "      <td>0.0</td>\n",
              "      <td>1.0</td>\n",
              "      <td>A</td>\n",
              "      <td>C Kavanagh</td>\n",
              "      <td>14.0</td>\n",
              "      <td>10.0</td>\n",
              "      <td>0.0</td>\n",
              "      <td>4.0</td>\n",
              "      <td>12.0</td>\n",
              "      <td>6.0</td>\n",
              "      <td>5.0</td>\n",
              "      <td>4.0</td>\n",
              "      <td>1.0</td>\n",
              "      <td>0.0</td>\n",
              "      <td>0.0</td>\n",
              "      <td>0.0</td>\n",
              "      <td>2.05</td>\n",
              "      <td>3.80</td>\n",
              "      <td>3.30</td>\n",
              "      <td>2.10</td>\n",
              "      <td>3.80</td>\n",
              "      <td>3.20</td>\n",
              "      <td>2.05</td>\n",
              "      <td>3.80</td>\n",
              "      <td>3.30</td>\n",
              "      <td>2.15</td>\n",
              "      <td>3.6</td>\n",
              "      <td>3.25</td>\n",
              "      <td>2.10</td>\n",
              "      <td>3.70</td>\n",
              "      <td>3.30</td>\n",
              "    </tr>\n",
              "    <tr>\n",
              "      <th>373</th>\n",
              "      <td>E0</td>\n",
              "      <td>23/05/2021</td>\n",
              "      <td>Leeds</td>\n",
              "      <td>West Brom</td>\n",
              "      <td>3.0</td>\n",
              "      <td>1.0</td>\n",
              "      <td>H</td>\n",
              "      <td>2.0</td>\n",
              "      <td>0.0</td>\n",
              "      <td>H</td>\n",
              "      <td>D Coote</td>\n",
              "      <td>17.0</td>\n",
              "      <td>14.0</td>\n",
              "      <td>9.0</td>\n",
              "      <td>5.0</td>\n",
              "      <td>12.0</td>\n",
              "      <td>12.0</td>\n",
              "      <td>8.0</td>\n",
              "      <td>3.0</td>\n",
              "      <td>2.0</td>\n",
              "      <td>1.0</td>\n",
              "      <td>0.0</td>\n",
              "      <td>0.0</td>\n",
              "      <td>1.40</td>\n",
              "      <td>5.25</td>\n",
              "      <td>6.50</td>\n",
              "      <td>1.45</td>\n",
              "      <td>5.00</td>\n",
              "      <td>6.25</td>\n",
              "      <td>1.45</td>\n",
              "      <td>5.25</td>\n",
              "      <td>6.25</td>\n",
              "      <td>1.42</td>\n",
              "      <td>5.0</td>\n",
              "      <td>7.00</td>\n",
              "      <td>1.40</td>\n",
              "      <td>5.00</td>\n",
              "      <td>7.00</td>\n",
              "    </tr>\n",
              "    <tr>\n",
              "      <th>374</th>\n",
              "      <td>E0</td>\n",
              "      <td>23/05/2021</td>\n",
              "      <td>Leicester</td>\n",
              "      <td>Tottenham</td>\n",
              "      <td>2.0</td>\n",
              "      <td>4.0</td>\n",
              "      <td>A</td>\n",
              "      <td>1.0</td>\n",
              "      <td>1.0</td>\n",
              "      <td>D</td>\n",
              "      <td>A Taylor</td>\n",
              "      <td>10.0</td>\n",
              "      <td>11.0</td>\n",
              "      <td>6.0</td>\n",
              "      <td>4.0</td>\n",
              "      <td>9.0</td>\n",
              "      <td>8.0</td>\n",
              "      <td>8.0</td>\n",
              "      <td>7.0</td>\n",
              "      <td>0.0</td>\n",
              "      <td>2.0</td>\n",
              "      <td>0.0</td>\n",
              "      <td>0.0</td>\n",
              "      <td>2.00</td>\n",
              "      <td>4.00</td>\n",
              "      <td>3.30</td>\n",
              "      <td>2.00</td>\n",
              "      <td>3.90</td>\n",
              "      <td>3.40</td>\n",
              "      <td>2.05</td>\n",
              "      <td>3.85</td>\n",
              "      <td>3.30</td>\n",
              "      <td>2.05</td>\n",
              "      <td>3.9</td>\n",
              "      <td>3.30</td>\n",
              "      <td>2.00</td>\n",
              "      <td>3.75</td>\n",
              "      <td>3.50</td>\n",
              "    </tr>\n",
              "    <tr>\n",
              "      <th>375</th>\n",
              "      <td>E0</td>\n",
              "      <td>23/05/2021</td>\n",
              "      <td>Liverpool</td>\n",
              "      <td>Crystal Palace</td>\n",
              "      <td>2.0</td>\n",
              "      <td>0.0</td>\n",
              "      <td>H</td>\n",
              "      <td>1.0</td>\n",
              "      <td>0.0</td>\n",
              "      <td>H</td>\n",
              "      <td>C Pawson</td>\n",
              "      <td>19.0</td>\n",
              "      <td>5.0</td>\n",
              "      <td>5.0</td>\n",
              "      <td>4.0</td>\n",
              "      <td>10.0</td>\n",
              "      <td>8.0</td>\n",
              "      <td>14.0</td>\n",
              "      <td>1.0</td>\n",
              "      <td>2.0</td>\n",
              "      <td>2.0</td>\n",
              "      <td>0.0</td>\n",
              "      <td>0.0</td>\n",
              "      <td>1.14</td>\n",
              "      <td>8.50</td>\n",
              "      <td>15.00</td>\n",
              "      <td>1.16</td>\n",
              "      <td>8.00</td>\n",
              "      <td>16.50</td>\n",
              "      <td>1.15</td>\n",
              "      <td>8.25</td>\n",
              "      <td>16.00</td>\n",
              "      <td>1.15</td>\n",
              "      <td>8.0</td>\n",
              "      <td>17.00</td>\n",
              "      <td>1.17</td>\n",
              "      <td>7.50</td>\n",
              "      <td>17.00</td>\n",
              "    </tr>\n",
              "    <tr>\n",
              "      <th>376</th>\n",
              "      <td>E0</td>\n",
              "      <td>23/05/2021</td>\n",
              "      <td>Man City</td>\n",
              "      <td>Everton</td>\n",
              "      <td>5.0</td>\n",
              "      <td>0.0</td>\n",
              "      <td>H</td>\n",
              "      <td>2.0</td>\n",
              "      <td>0.0</td>\n",
              "      <td>H</td>\n",
              "      <td>M Oliver</td>\n",
              "      <td>21.0</td>\n",
              "      <td>8.0</td>\n",
              "      <td>11.0</td>\n",
              "      <td>3.0</td>\n",
              "      <td>8.0</td>\n",
              "      <td>10.0</td>\n",
              "      <td>7.0</td>\n",
              "      <td>5.0</td>\n",
              "      <td>2.0</td>\n",
              "      <td>2.0</td>\n",
              "      <td>0.0</td>\n",
              "      <td>0.0</td>\n",
              "      <td>1.44</td>\n",
              "      <td>5.00</td>\n",
              "      <td>6.50</td>\n",
              "      <td>1.44</td>\n",
              "      <td>5.00</td>\n",
              "      <td>6.50</td>\n",
              "      <td>1.47</td>\n",
              "      <td>4.90</td>\n",
              "      <td>6.00</td>\n",
              "      <td>1.44</td>\n",
              "      <td>4.8</td>\n",
              "      <td>7.00</td>\n",
              "      <td>1.45</td>\n",
              "      <td>4.60</td>\n",
              "      <td>7.00</td>\n",
              "    </tr>\n",
              "    <tr>\n",
              "      <th>377</th>\n",
              "      <td>E0</td>\n",
              "      <td>23/05/2021</td>\n",
              "      <td>Sheffield United</td>\n",
              "      <td>Burnley</td>\n",
              "      <td>1.0</td>\n",
              "      <td>0.0</td>\n",
              "      <td>H</td>\n",
              "      <td>1.0</td>\n",
              "      <td>0.0</td>\n",
              "      <td>H</td>\n",
              "      <td>K Friend</td>\n",
              "      <td>12.0</td>\n",
              "      <td>10.0</td>\n",
              "      <td>3.0</td>\n",
              "      <td>3.0</td>\n",
              "      <td>11.0</td>\n",
              "      <td>1.0</td>\n",
              "      <td>8.0</td>\n",
              "      <td>9.0</td>\n",
              "      <td>3.0</td>\n",
              "      <td>1.0</td>\n",
              "      <td>0.0</td>\n",
              "      <td>0.0</td>\n",
              "      <td>2.80</td>\n",
              "      <td>3.60</td>\n",
              "      <td>2.40</td>\n",
              "      <td>2.80</td>\n",
              "      <td>3.60</td>\n",
              "      <td>2.40</td>\n",
              "      <td>2.85</td>\n",
              "      <td>3.60</td>\n",
              "      <td>2.40</td>\n",
              "      <td>2.80</td>\n",
              "      <td>3.5</td>\n",
              "      <td>2.45</td>\n",
              "      <td>2.88</td>\n",
              "      <td>3.50</td>\n",
              "      <td>2.40</td>\n",
              "    </tr>\n",
              "    <tr>\n",
              "      <th>378</th>\n",
              "      <td>E0</td>\n",
              "      <td>23/05/2021</td>\n",
              "      <td>West Ham</td>\n",
              "      <td>Southampton</td>\n",
              "      <td>3.0</td>\n",
              "      <td>0.0</td>\n",
              "      <td>H</td>\n",
              "      <td>2.0</td>\n",
              "      <td>0.0</td>\n",
              "      <td>H</td>\n",
              "      <td>M Atkinson</td>\n",
              "      <td>14.0</td>\n",
              "      <td>17.0</td>\n",
              "      <td>7.0</td>\n",
              "      <td>5.0</td>\n",
              "      <td>5.0</td>\n",
              "      <td>9.0</td>\n",
              "      <td>2.0</td>\n",
              "      <td>3.0</td>\n",
              "      <td>0.0</td>\n",
              "      <td>3.0</td>\n",
              "      <td>0.0</td>\n",
              "      <td>0.0</td>\n",
              "      <td>1.65</td>\n",
              "      <td>4.00</td>\n",
              "      <td>5.00</td>\n",
              "      <td>1.72</td>\n",
              "      <td>4.00</td>\n",
              "      <td>4.60</td>\n",
              "      <td>1.70</td>\n",
              "      <td>4.10</td>\n",
              "      <td>4.60</td>\n",
              "      <td>1.70</td>\n",
              "      <td>3.9</td>\n",
              "      <td>4.80</td>\n",
              "      <td>1.67</td>\n",
              "      <td>4.10</td>\n",
              "      <td>4.80</td>\n",
              "    </tr>\n",
              "    <tr>\n",
              "      <th>379</th>\n",
              "      <td>E0</td>\n",
              "      <td>23/05/2021</td>\n",
              "      <td>Wolves</td>\n",
              "      <td>Man United</td>\n",
              "      <td>1.0</td>\n",
              "      <td>2.0</td>\n",
              "      <td>A</td>\n",
              "      <td>1.0</td>\n",
              "      <td>2.0</td>\n",
              "      <td>A</td>\n",
              "      <td>M Dean</td>\n",
              "      <td>14.0</td>\n",
              "      <td>9.0</td>\n",
              "      <td>4.0</td>\n",
              "      <td>4.0</td>\n",
              "      <td>14.0</td>\n",
              "      <td>3.0</td>\n",
              "      <td>6.0</td>\n",
              "      <td>2.0</td>\n",
              "      <td>4.0</td>\n",
              "      <td>1.0</td>\n",
              "      <td>0.0</td>\n",
              "      <td>0.0</td>\n",
              "      <td>2.50</td>\n",
              "      <td>3.50</td>\n",
              "      <td>2.70</td>\n",
              "      <td>2.50</td>\n",
              "      <td>3.60</td>\n",
              "      <td>2.70</td>\n",
              "      <td>2.55</td>\n",
              "      <td>3.60</td>\n",
              "      <td>2.65</td>\n",
              "      <td>2.55</td>\n",
              "      <td>3.5</td>\n",
              "      <td>2.70</td>\n",
              "      <td>2.50</td>\n",
              "      <td>3.50</td>\n",
              "      <td>2.75</td>\n",
              "    </tr>\n",
              "  </tbody>\n",
              "</table>\n",
              "</div>"
            ],
            "text/plain": [
              "    Div        Date          HomeTeam  ...    VCH   VCD    VCA\n",
              "360  E0  18/05/2021        Man United  ...   1.30  5.75   9.50\n",
              "361  E0  18/05/2021       Southampton  ...   2.63  3.75   2.55\n",
              "362  E0  18/05/2021          Brighton  ...   7.50  4.50   1.45\n",
              "363  E0  18/05/2021           Chelsea  ...   1.70  3.70   5.50\n",
              "364  E0  19/05/2021           Everton  ...   1.85  3.50   4.50\n",
              "365  E0  19/05/2021         Newcastle  ...   1.73  3.80   4.80\n",
              "366  E0  19/05/2021         Tottenham  ...   1.50  4.60   6.00\n",
              "367  E0  19/05/2021    Crystal Palace  ...   6.50  4.33   1.50\n",
              "368  E0  19/05/2021           Burnley  ...  11.50  7.00   1.22\n",
              "369  E0  19/05/2021         West Brom  ...   5.50  4.20   1.60\n",
              "370  E0  23/05/2021           Arsenal  ...   1.62  4.10   5.50\n",
              "371  E0  23/05/2021       Aston Villa  ...   7.00  4.60   1.45\n",
              "372  E0  23/05/2021            Fulham  ...   2.10  3.70   3.30\n",
              "373  E0  23/05/2021             Leeds  ...   1.40  5.00   7.00\n",
              "374  E0  23/05/2021         Leicester  ...   2.00  3.75   3.50\n",
              "375  E0  23/05/2021         Liverpool  ...   1.17  7.50  17.00\n",
              "376  E0  23/05/2021          Man City  ...   1.45  4.60   7.00\n",
              "377  E0  23/05/2021  Sheffield United  ...   2.88  3.50   2.40\n",
              "378  E0  23/05/2021          West Ham  ...   1.67  4.10   4.80\n",
              "379  E0  23/05/2021            Wolves  ...   2.50  3.50   2.75\n",
              "\n",
              "[20 rows x 38 columns]"
            ]
          },
          "metadata": {},
          "execution_count": 3
        }
      ]
    },
    {
      "cell_type": "code",
      "metadata": {
        "colab": {
          "base_uri": "https://localhost:8080/"
        },
        "id": "0k1pkAXs7FIV",
        "outputId": "a9d4ddcc-fe42-47b9-8e28-9d6b4cea7dce"
      },
      "source": [
        "data_17_18.shape"
      ],
      "execution_count": 4,
      "outputs": [
        {
          "output_type": "execute_result",
          "data": {
            "text/plain": [
              "(380, 65)"
            ]
          },
          "metadata": {},
          "execution_count": 4
        }
      ]
    },
    {
      "cell_type": "code",
      "metadata": {
        "colab": {
          "base_uri": "https://localhost:8080/"
        },
        "id": "SnZcqMow8JiP",
        "outputId": "d7c806d8-bd11-467d-ef01-e224cf1ee349"
      },
      "source": [
        "df.shape"
      ],
      "execution_count": 5,
      "outputs": [
        {
          "output_type": "execute_result",
          "data": {
            "text/plain": [
              "(3801, 38)"
            ]
          },
          "metadata": {},
          "execution_count": 5
        }
      ]
    },
    {
      "cell_type": "markdown",
      "metadata": {
        "id": "j7OlOZJ38MvB"
      },
      "source": [
        "Handling missing values:"
      ]
    },
    {
      "cell_type": "code",
      "metadata": {
        "colab": {
          "base_uri": "https://localhost:8080/"
        },
        "id": "z9600XlI8LiU",
        "outputId": "40b4884f-fde7-48d4-8ce6-b4ae337bea47"
      },
      "source": [
        "df.isna().any()"
      ],
      "execution_count": 6,
      "outputs": [
        {
          "output_type": "execute_result",
          "data": {
            "text/plain": [
              "Div         True\n",
              "Date        True\n",
              "HomeTeam    True\n",
              "AwayTeam    True\n",
              "FTHG        True\n",
              "FTAG        True\n",
              "FTR         True\n",
              "HTHG        True\n",
              "HTAG        True\n",
              "HTR         True\n",
              "Referee     True\n",
              "HS          True\n",
              "AS          True\n",
              "HST         True\n",
              "AST         True\n",
              "HF          True\n",
              "AF          True\n",
              "HC          True\n",
              "AC          True\n",
              "HY          True\n",
              "AY          True\n",
              "HR          True\n",
              "AR          True\n",
              "B365H       True\n",
              "B365D       True\n",
              "B365A       True\n",
              "BWH         True\n",
              "BWD         True\n",
              "BWA         True\n",
              "IWH         True\n",
              "IWD         True\n",
              "IWA         True\n",
              "WHH         True\n",
              "WHD         True\n",
              "WHA         True\n",
              "VCH         True\n",
              "VCD         True\n",
              "VCA         True\n",
              "dtype: bool"
            ]
          },
          "metadata": {},
          "execution_count": 6
        }
      ]
    },
    {
      "cell_type": "code",
      "metadata": {
        "id": "R-Mt_fw18Qty"
      },
      "source": [
        "df.dropna(subset=['HomeTeam' , 'AwayTeam'] , axis=0 , inplace=True) #dropping rows with missing values of Home and Away teams"
      ],
      "execution_count": 7,
      "outputs": []
    },
    {
      "cell_type": "code",
      "metadata": {
        "colab": {
          "base_uri": "https://localhost:8080/"
        },
        "id": "vH0BalYh8Za-",
        "outputId": "822ae981-1466-454a-f859-e282134978e4"
      },
      "source": [
        "df.isna().any()"
      ],
      "execution_count": 8,
      "outputs": [
        {
          "output_type": "execute_result",
          "data": {
            "text/plain": [
              "Div         False\n",
              "Date        False\n",
              "HomeTeam    False\n",
              "AwayTeam    False\n",
              "FTHG        False\n",
              "FTAG        False\n",
              "FTR         False\n",
              "HTHG        False\n",
              "HTAG        False\n",
              "HTR         False\n",
              "Referee     False\n",
              "HS          False\n",
              "AS          False\n",
              "HST         False\n",
              "AST         False\n",
              "HF          False\n",
              "AF          False\n",
              "HC          False\n",
              "AC          False\n",
              "HY          False\n",
              "AY          False\n",
              "HR          False\n",
              "AR          False\n",
              "B365H       False\n",
              "B365D       False\n",
              "B365A       False\n",
              "BWH          True\n",
              "BWD          True\n",
              "BWA          True\n",
              "IWH          True\n",
              "IWD          True\n",
              "IWA          True\n",
              "WHH         False\n",
              "WHD         False\n",
              "WHA         False\n",
              "VCH         False\n",
              "VCD         False\n",
              "VCA         False\n",
              "dtype: bool"
            ]
          },
          "metadata": {},
          "execution_count": 8
        }
      ]
    },
    {
      "cell_type": "markdown",
      "metadata": {
        "id": "IOHHAqQ18cv6"
      },
      "source": [
        "Analysis:"
      ]
    },
    {
      "cell_type": "code",
      "metadata": {
        "colab": {
          "base_uri": "https://localhost:8080/",
          "height": 636
        },
        "id": "ofHX4ntO8bap",
        "outputId": "4a80b867-09d8-4175-ffb5-738e6409eb55"
      },
      "source": [
        "plt.figure(figsize=(20,10)) \n",
        "sns.heatmap(df.corr(), annot= True)"
      ],
      "execution_count": 9,
      "outputs": [
        {
          "output_type": "execute_result",
          "data": {
            "text/plain": [
              "<matplotlib.axes._subplots.AxesSubplot at 0x7f3a2f59f5d0>"
            ]
          },
          "metadata": {},
          "execution_count": 9
        },
        {
          "output_type": "display_data",
          "data": {
            "image/png": "[encoded data removed]",
            "text/plain": [
              "<Figure size 1440x720 with 2 Axes>"
            ]
          },
          "metadata": {
            "needs_background": "light"
          }
        }
      ]
    },
    {
      "cell_type": "code",
      "metadata": {
        "colab": {
          "base_uri": "https://localhost:8080/",
          "height": 441
        },
        "id": "lbbcNUOj8e42",
        "outputId": "bfcb5319-5b5b-421e-aa24-d47b75a48637"
      },
      "source": [
        "df.groupby('FTR')['FTR'].count().plot(kind='pie', autopct='%1.1f%%', figsize=(4,4))\n",
        "\n",
        "\n",
        "ax = sns.catplot(y=\"FTR\", kind=\"count\", data=df, height=2.6, aspect=2.5, orient='h')"
      ],
      "execution_count": 10,
      "outputs": [
        {
          "output_type": "display_data",
          "data": {
            "image/png": "[encoded data removed]",
            "text/plain": [
              "<Figure size 288x288 with 1 Axes>"
            ]
          },
          "metadata": {}
        },
        {
          "output_type": "display_data",
          "data": {
            "image/png": "[encoded data removed]",
            "text/plain": [
              "<Figure size 468x187.2 with 1 Axes>"
            ]
          },
          "metadata": {
            "needs_background": "light"
          }
        }
      ]
    },
    {
      "cell_type": "markdown",
      "metadata": {
        "id": "HDq_nB9f8l04"
      },
      "source": [
        "The charts above indicate that the Home team are usually favourites."
      ]
    },
    {
      "cell_type": "markdown",
      "metadata": {
        "id": "wZcqL4r38uzN"
      },
      "source": [
        "Adding a 'season' column and 'total goals scored in a match' column for analysis:"
      ]
    },
    {
      "cell_type": "code",
      "metadata": {
        "colab": {
          "base_uri": "https://localhost:8080/",
          "height": 274
        },
        "id": "jyNQEnZ88jVz",
        "outputId": "80745da3-9069-40e9-d7cf-f6620d7519da"
      },
      "source": [
        "df['season'] = [str(yr) + '_' + str(yr + 1) if mon >=8 and mon <=12 else str(yr-1) + '_' + str(yr) \n",
        "                for (yr , mon) in zip(pd.DatetimeIndex(df['Date']).year , pd.DatetimeIndex(df['Date']).month) ]\n",
        "\n",
        "df['total_goals'] = df['FTHG'] + df['FTAG']\n",
        "\n",
        "df.tail()"
      ],
      "execution_count": 11,
      "outputs": [
        {
          "output_type": "execute_result",
          "data": {
            "text/html": [
              "<div>\n",
              "<style scoped>\n",
              "    .dataframe tbody tr th:only-of-type {\n",
              "        vertical-align: middle;\n",
              "    }\n",
              "\n",
              "    .dataframe tbody tr th {\n",
              "        vertical-align: top;\n",
              "    }\n",
              "\n",
              "    .dataframe thead th {\n",
              "        text-align: right;\n",
              "    }\n",
              "</style>\n",
              "<table border=\"1\" class=\"dataframe\">\n",
              "  <thead>\n",
              "    <tr style=\"text-align: right;\">\n",
              "      <th></th>\n",
              "      <th>Div</th>\n",
              "      <th>Date</th>\n",
              "      <th>HomeTeam</th>\n",
              "      <th>AwayTeam</th>\n",
              "      <th>FTHG</th>\n",
              "      <th>FTAG</th>\n",
              "      <th>FTR</th>\n",
              "      <th>HTHG</th>\n",
              "      <th>HTAG</th>\n",
              "      <th>HTR</th>\n",
              "      <th>Referee</th>\n",
              "      <th>HS</th>\n",
              "      <th>AS</th>\n",
              "      <th>HST</th>\n",
              "      <th>AST</th>\n",
              "      <th>HF</th>\n",
              "      <th>AF</th>\n",
              "      <th>HC</th>\n",
              "      <th>AC</th>\n",
              "      <th>HY</th>\n",
              "      <th>AY</th>\n",
              "      <th>HR</th>\n",
              "      <th>AR</th>\n",
              "      <th>B365H</th>\n",
              "      <th>B365D</th>\n",
              "      <th>B365A</th>\n",
              "      <th>BWH</th>\n",
              "      <th>BWD</th>\n",
              "      <th>BWA</th>\n",
              "      <th>IWH</th>\n",
              "      <th>IWD</th>\n",
              "      <th>IWA</th>\n",
              "      <th>WHH</th>\n",
              "      <th>WHD</th>\n",
              "      <th>WHA</th>\n",
              "      <th>VCH</th>\n",
              "      <th>VCD</th>\n",
              "      <th>VCA</th>\n",
              "      <th>season</th>\n",
              "      <th>total_goals</th>\n",
              "    </tr>\n",
              "  </thead>\n",
              "  <tbody>\n",
              "    <tr>\n",
              "      <th>375</th>\n",
              "      <td>E0</td>\n",
              "      <td>23/05/2021</td>\n",
              "      <td>Liverpool</td>\n",
              "      <td>Crystal Palace</td>\n",
              "      <td>2.0</td>\n",
              "      <td>0.0</td>\n",
              "      <td>H</td>\n",
              "      <td>1.0</td>\n",
              "      <td>0.0</td>\n",
              "      <td>H</td>\n",
              "      <td>C Pawson</td>\n",
              "      <td>19.0</td>\n",
              "      <td>5.0</td>\n",
              "      <td>5.0</td>\n",
              "      <td>4.0</td>\n",
              "      <td>10.0</td>\n",
              "      <td>8.0</td>\n",
              "      <td>14.0</td>\n",
              "      <td>1.0</td>\n",
              "      <td>2.0</td>\n",
              "      <td>2.0</td>\n",
              "      <td>0.0</td>\n",
              "      <td>0.0</td>\n",
              "      <td>1.14</td>\n",
              "      <td>8.5</td>\n",
              "      <td>15.0</td>\n",
              "      <td>1.16</td>\n",
              "      <td>8.0</td>\n",
              "      <td>16.5</td>\n",
              "      <td>1.15</td>\n",
              "      <td>8.25</td>\n",
              "      <td>16.00</td>\n",
              "      <td>1.15</td>\n",
              "      <td>8.0</td>\n",
              "      <td>17.00</td>\n",
              "      <td>1.17</td>\n",
              "      <td>7.5</td>\n",
              "      <td>17.00</td>\n",
              "      <td>2020_2021</td>\n",
              "      <td>2.0</td>\n",
              "    </tr>\n",
              "    <tr>\n",
              "      <th>376</th>\n",
              "      <td>E0</td>\n",
              "      <td>23/05/2021</td>\n",
              "      <td>Man City</td>\n",
              "      <td>Everton</td>\n",
              "      <td>5.0</td>\n",
              "      <td>0.0</td>\n",
              "      <td>H</td>\n",
              "      <td>2.0</td>\n",
              "      <td>0.0</td>\n",
              "      <td>H</td>\n",
              "      <td>M Oliver</td>\n",
              "      <td>21.0</td>\n",
              "      <td>8.0</td>\n",
              "      <td>11.0</td>\n",
              "      <td>3.0</td>\n",
              "      <td>8.0</td>\n",
              "      <td>10.0</td>\n",
              "      <td>7.0</td>\n",
              "      <td>5.0</td>\n",
              "      <td>2.0</td>\n",
              "      <td>2.0</td>\n",
              "      <td>0.0</td>\n",
              "      <td>0.0</td>\n",
              "      <td>1.44</td>\n",
              "      <td>5.0</td>\n",
              "      <td>6.5</td>\n",
              "      <td>1.44</td>\n",
              "      <td>5.0</td>\n",
              "      <td>6.5</td>\n",
              "      <td>1.47</td>\n",
              "      <td>4.90</td>\n",
              "      <td>6.00</td>\n",
              "      <td>1.44</td>\n",
              "      <td>4.8</td>\n",
              "      <td>7.00</td>\n",
              "      <td>1.45</td>\n",
              "      <td>4.6</td>\n",
              "      <td>7.00</td>\n",
              "      <td>2020_2021</td>\n",
              "      <td>5.0</td>\n",
              "    </tr>\n",
              "    <tr>\n",
              "      <th>377</th>\n",
              "      <td>E0</td>\n",
              "      <td>23/05/2021</td>\n",
              "      <td>Sheffield United</td>\n",
              "      <td>Burnley</td>\n",
              "      <td>1.0</td>\n",
              "      <td>0.0</td>\n",
              "      <td>H</td>\n",
              "      <td>1.0</td>\n",
              "      <td>0.0</td>\n",
              "      <td>H</td>\n",
              "      <td>K Friend</td>\n",
              "      <td>12.0</td>\n",
              "      <td>10.0</td>\n",
              "      <td>3.0</td>\n",
              "      <td>3.0</td>\n",
              "      <td>11.0</td>\n",
              "      <td>1.0</td>\n",
              "      <td>8.0</td>\n",
              "      <td>9.0</td>\n",
              "      <td>3.0</td>\n",
              "      <td>1.0</td>\n",
              "      <td>0.0</td>\n",
              "      <td>0.0</td>\n",
              "      <td>2.80</td>\n",
              "      <td>3.6</td>\n",
              "      <td>2.4</td>\n",
              "      <td>2.80</td>\n",
              "      <td>3.6</td>\n",
              "      <td>2.4</td>\n",
              "      <td>2.85</td>\n",
              "      <td>3.60</td>\n",
              "      <td>2.40</td>\n",
              "      <td>2.80</td>\n",
              "      <td>3.5</td>\n",
              "      <td>2.45</td>\n",
              "      <td>2.88</td>\n",
              "      <td>3.5</td>\n",
              "      <td>2.40</td>\n",
              "      <td>2020_2021</td>\n",
              "      <td>1.0</td>\n",
              "    </tr>\n",
              "    <tr>\n",
              "      <th>378</th>\n",
              "      <td>E0</td>\n",
              "      <td>23/05/2021</td>\n",
              "      <td>West Ham</td>\n",
              "      <td>Southampton</td>\n",
              "      <td>3.0</td>\n",
              "      <td>0.0</td>\n",
              "      <td>H</td>\n",
              "      <td>2.0</td>\n",
              "      <td>0.0</td>\n",
              "      <td>H</td>\n",
              "      <td>M Atkinson</td>\n",
              "      <td>14.0</td>\n",
              "      <td>17.0</td>\n",
              "      <td>7.0</td>\n",
              "      <td>5.0</td>\n",
              "      <td>5.0</td>\n",
              "      <td>9.0</td>\n",
              "      <td>2.0</td>\n",
              "      <td>3.0</td>\n",
              "      <td>0.0</td>\n",
              "      <td>3.0</td>\n",
              "      <td>0.0</td>\n",
              "      <td>0.0</td>\n",
              "      <td>1.65</td>\n",
              "      <td>4.0</td>\n",
              "      <td>5.0</td>\n",
              "      <td>1.72</td>\n",
              "      <td>4.0</td>\n",
              "      <td>4.6</td>\n",
              "      <td>1.70</td>\n",
              "      <td>4.10</td>\n",
              "      <td>4.60</td>\n",
              "      <td>1.70</td>\n",
              "      <td>3.9</td>\n",
              "      <td>4.80</td>\n",
              "      <td>1.67</td>\n",
              "      <td>4.1</td>\n",
              "      <td>4.80</td>\n",
              "      <td>2020_2021</td>\n",
              "      <td>3.0</td>\n",
              "    </tr>\n",
              "    <tr>\n",
              "      <th>379</th>\n",
              "      <td>E0</td>\n",
              "      <td>23/05/2021</td>\n",
              "      <td>Wolves</td>\n",
              "      <td>Man United</td>\n",
              "      <td>1.0</td>\n",
              "      <td>2.0</td>\n",
              "      <td>A</td>\n",
              "      <td>1.0</td>\n",
              "      <td>2.0</td>\n",
              "      <td>A</td>\n",
              "      <td>M Dean</td>\n",
              "      <td>14.0</td>\n",
              "      <td>9.0</td>\n",
              "      <td>4.0</td>\n",
              "      <td>4.0</td>\n",
              "      <td>14.0</td>\n",
              "      <td>3.0</td>\n",
              "      <td>6.0</td>\n",
              "      <td>2.0</td>\n",
              "      <td>4.0</td>\n",
              "      <td>1.0</td>\n",
              "      <td>0.0</td>\n",
              "      <td>0.0</td>\n",
              "      <td>2.50</td>\n",
              "      <td>3.5</td>\n",
              "      <td>2.7</td>\n",
              "      <td>2.50</td>\n",
              "      <td>3.6</td>\n",
              "      <td>2.7</td>\n",
              "      <td>2.55</td>\n",
              "      <td>3.60</td>\n",
              "      <td>2.65</td>\n",
              "      <td>2.55</td>\n",
              "      <td>3.5</td>\n",
              "      <td>2.70</td>\n",
              "      <td>2.50</td>\n",
              "      <td>3.5</td>\n",
              "      <td>2.75</td>\n",
              "      <td>2020_2021</td>\n",
              "      <td>3.0</td>\n",
              "    </tr>\n",
              "  </tbody>\n",
              "</table>\n",
              "</div>"
            ],
            "text/plain": [
              "    Div        Date          HomeTeam  ...    VCA     season  total_goals\n",
              "375  E0  23/05/2021         Liverpool  ...  17.00  2020_2021          2.0\n",
              "376  E0  23/05/2021          Man City  ...   7.00  2020_2021          5.0\n",
              "377  E0  23/05/2021  Sheffield United  ...   2.40  2020_2021          1.0\n",
              "378  E0  23/05/2021          West Ham  ...   4.80  2020_2021          3.0\n",
              "379  E0  23/05/2021            Wolves  ...   2.75  2020_2021          3.0\n",
              "\n",
              "[5 rows x 40 columns]"
            ]
          },
          "metadata": {},
          "execution_count": 11
        }
      ]
    },
    {
      "cell_type": "code",
      "metadata": {
        "colab": {
          "base_uri": "https://localhost:8080/",
          "height": 405
        },
        "id": "gPLx1euj83YO",
        "outputId": "8709f181-87c6-46d5-f29b-ff7d535f017e"
      },
      "source": [
        "df.groupby('season')['total_goals'].sum().plot(figsize=(10,6))\n",
        "plt.title(\"Total Goals Scored in a Season\")\n",
        "plt.show()"
      ],
      "execution_count": 12,
      "outputs": [
        {
          "output_type": "display_data",
          "data": {
            "image/png": "[encoded data removed]",
            "text/plain": [
              "<Figure size 720x432 with 1 Axes>"
            ]
          },
          "metadata": {
            "needs_background": "light"
          }
        }
      ]
    },
    {
      "cell_type": "markdown",
      "metadata": {
        "id": "JDImOSiJ86MC"
      },
      "source": [
        "Dropping unnecessary betting columns:"
      ]
    },
    {
      "cell_type": "code",
      "metadata": {
        "colab": {
          "base_uri": "https://localhost:8080/",
          "height": 203
        },
        "id": "Pk91uFDe84jN",
        "outputId": "b9a09a5d-010d-4369-d64d-ebac8d5edcf8"
      },
      "source": [
        "df.drop(['B365H', 'B365D', 'B365A', 'BWH', 'BWD','BWA', 'IWH', 'IWD', 'IWA',  'WHH', 'WHD', 'WHA',\n",
        "       'VCH', 'VCD', 'VCA'] , axis=1 , inplace=True)\n",
        "\n",
        "df.head()"
      ],
      "execution_count": 13,
      "outputs": [
        {
          "output_type": "execute_result",
          "data": {
            "text/html": [
              "<div>\n",
              "<style scoped>\n",
              "    .dataframe tbody tr th:only-of-type {\n",
              "        vertical-align: middle;\n",
              "    }\n",
              "\n",
              "    .dataframe tbody tr th {\n",
              "        vertical-align: top;\n",
              "    }\n",
              "\n",
              "    .dataframe thead th {\n",
              "        text-align: right;\n",
              "    }\n",
              "</style>\n",
              "<table border=\"1\" class=\"dataframe\">\n",
              "  <thead>\n",
              "    <tr style=\"text-align: right;\">\n",
              "      <th></th>\n",
              "      <th>Div</th>\n",
              "      <th>Date</th>\n",
              "      <th>HomeTeam</th>\n",
              "      <th>AwayTeam</th>\n",
              "      <th>FTHG</th>\n",
              "      <th>FTAG</th>\n",
              "      <th>FTR</th>\n",
              "      <th>HTHG</th>\n",
              "      <th>HTAG</th>\n",
              "      <th>HTR</th>\n",
              "      <th>Referee</th>\n",
              "      <th>HS</th>\n",
              "      <th>AS</th>\n",
              "      <th>HST</th>\n",
              "      <th>AST</th>\n",
              "      <th>HF</th>\n",
              "      <th>AF</th>\n",
              "      <th>HC</th>\n",
              "      <th>AC</th>\n",
              "      <th>HY</th>\n",
              "      <th>AY</th>\n",
              "      <th>HR</th>\n",
              "      <th>AR</th>\n",
              "      <th>season</th>\n",
              "      <th>total_goals</th>\n",
              "    </tr>\n",
              "  </thead>\n",
              "  <tbody>\n",
              "    <tr>\n",
              "      <th>0</th>\n",
              "      <td>E0</td>\n",
              "      <td>13/08/11</td>\n",
              "      <td>Blackburn</td>\n",
              "      <td>Wolves</td>\n",
              "      <td>1.0</td>\n",
              "      <td>2.0</td>\n",
              "      <td>A</td>\n",
              "      <td>1.0</td>\n",
              "      <td>1.0</td>\n",
              "      <td>D</td>\n",
              "      <td>K Friend</td>\n",
              "      <td>16.0</td>\n",
              "      <td>13.0</td>\n",
              "      <td>8.0</td>\n",
              "      <td>4.0</td>\n",
              "      <td>14.0</td>\n",
              "      <td>10.0</td>\n",
              "      <td>12.0</td>\n",
              "      <td>6.0</td>\n",
              "      <td>4.0</td>\n",
              "      <td>2.0</td>\n",
              "      <td>0.0</td>\n",
              "      <td>0.0</td>\n",
              "      <td>2011_2012</td>\n",
              "      <td>3.0</td>\n",
              "    </tr>\n",
              "    <tr>\n",
              "      <th>1</th>\n",
              "      <td>E0</td>\n",
              "      <td>13/08/11</td>\n",
              "      <td>Fulham</td>\n",
              "      <td>Aston Villa</td>\n",
              "      <td>0.0</td>\n",
              "      <td>0.0</td>\n",
              "      <td>D</td>\n",
              "      <td>0.0</td>\n",
              "      <td>0.0</td>\n",
              "      <td>D</td>\n",
              "      <td>L Mason</td>\n",
              "      <td>13.0</td>\n",
              "      <td>7.0</td>\n",
              "      <td>9.0</td>\n",
              "      <td>1.0</td>\n",
              "      <td>10.0</td>\n",
              "      <td>18.0</td>\n",
              "      <td>2.0</td>\n",
              "      <td>3.0</td>\n",
              "      <td>2.0</td>\n",
              "      <td>4.0</td>\n",
              "      <td>0.0</td>\n",
              "      <td>0.0</td>\n",
              "      <td>2011_2012</td>\n",
              "      <td>0.0</td>\n",
              "    </tr>\n",
              "    <tr>\n",
              "      <th>2</th>\n",
              "      <td>E0</td>\n",
              "      <td>13/08/11</td>\n",
              "      <td>Liverpool</td>\n",
              "      <td>Sunderland</td>\n",
              "      <td>1.0</td>\n",
              "      <td>1.0</td>\n",
              "      <td>D</td>\n",
              "      <td>1.0</td>\n",
              "      <td>0.0</td>\n",
              "      <td>H</td>\n",
              "      <td>P Dowd</td>\n",
              "      <td>11.0</td>\n",
              "      <td>15.0</td>\n",
              "      <td>4.0</td>\n",
              "      <td>6.0</td>\n",
              "      <td>17.0</td>\n",
              "      <td>12.0</td>\n",
              "      <td>6.0</td>\n",
              "      <td>3.0</td>\n",
              "      <td>4.0</td>\n",
              "      <td>4.0</td>\n",
              "      <td>0.0</td>\n",
              "      <td>0.0</td>\n",
              "      <td>2011_2012</td>\n",
              "      <td>2.0</td>\n",
              "    </tr>\n",
              "    <tr>\n",
              "      <th>3</th>\n",
              "      <td>E0</td>\n",
              "      <td>13/08/11</td>\n",
              "      <td>Newcastle</td>\n",
              "      <td>Arsenal</td>\n",
              "      <td>0.0</td>\n",
              "      <td>0.0</td>\n",
              "      <td>D</td>\n",
              "      <td>0.0</td>\n",
              "      <td>0.0</td>\n",
              "      <td>D</td>\n",
              "      <td>P Walton</td>\n",
              "      <td>6.0</td>\n",
              "      <td>9.0</td>\n",
              "      <td>1.0</td>\n",
              "      <td>4.0</td>\n",
              "      <td>9.0</td>\n",
              "      <td>11.0</td>\n",
              "      <td>2.0</td>\n",
              "      <td>5.0</td>\n",
              "      <td>3.0</td>\n",
              "      <td>5.0</td>\n",
              "      <td>0.0</td>\n",
              "      <td>1.0</td>\n",
              "      <td>2011_2012</td>\n",
              "      <td>0.0</td>\n",
              "    </tr>\n",
              "    <tr>\n",
              "      <th>4</th>\n",
              "      <td>E0</td>\n",
              "      <td>13/08/11</td>\n",
              "      <td>QPR</td>\n",
              "      <td>Bolton</td>\n",
              "      <td>0.0</td>\n",
              "      <td>4.0</td>\n",
              "      <td>A</td>\n",
              "      <td>0.0</td>\n",
              "      <td>1.0</td>\n",
              "      <td>A</td>\n",
              "      <td>M Atkinson</td>\n",
              "      <td>13.0</td>\n",
              "      <td>13.0</td>\n",
              "      <td>7.0</td>\n",
              "      <td>7.0</td>\n",
              "      <td>9.0</td>\n",
              "      <td>16.0</td>\n",
              "      <td>3.0</td>\n",
              "      <td>2.0</td>\n",
              "      <td>1.0</td>\n",
              "      <td>2.0</td>\n",
              "      <td>1.0</td>\n",
              "      <td>0.0</td>\n",
              "      <td>2011_2012</td>\n",
              "      <td>4.0</td>\n",
              "    </tr>\n",
              "  </tbody>\n",
              "</table>\n",
              "</div>"
            ],
            "text/plain": [
              "  Div      Date   HomeTeam     AwayTeam  ...   HR   AR     season  total_goals\n",
              "0  E0  13/08/11  Blackburn       Wolves  ...  0.0  0.0  2011_2012          3.0\n",
              "1  E0  13/08/11     Fulham  Aston Villa  ...  0.0  0.0  2011_2012          0.0\n",
              "2  E0  13/08/11  Liverpool   Sunderland  ...  0.0  0.0  2011_2012          2.0\n",
              "3  E0  13/08/11  Newcastle      Arsenal  ...  0.0  1.0  2011_2012          0.0\n",
              "4  E0  13/08/11        QPR       Bolton  ...  1.0  0.0  2011_2012          4.0\n",
              "\n",
              "[5 rows x 25 columns]"
            ]
          },
          "metadata": {},
          "execution_count": 13
        }
      ]
    },
    {
      "cell_type": "markdown",
      "metadata": {
        "id": "SiW0QXEE9KN7"
      },
      "source": [
        "#Chiq Sq Test for Feature Selection"
      ]
    },
    {
      "cell_type": "code",
      "metadata": {
        "colab": {
          "base_uri": "https://localhost:8080/"
        },
        "id": "tYJAgdcp9M4x",
        "outputId": "dab40e3d-84a2-4989-95d4-696e7fd63bc3"
      },
      "source": [
        "df.dtypes"
      ],
      "execution_count": 15,
      "outputs": [
        {
          "output_type": "execute_result",
          "data": {
            "text/plain": [
              "Div             object\n",
              "Date            object\n",
              "HomeTeam        object\n",
              "AwayTeam        object\n",
              "FTHG           float64\n",
              "FTAG           float64\n",
              "FTR             object\n",
              "HTHG           float64\n",
              "HTAG           float64\n",
              "HTR             object\n",
              "Referee         object\n",
              "HS             float64\n",
              "AS             float64\n",
              "HST            float64\n",
              "AST            float64\n",
              "HF             float64\n",
              "AF             float64\n",
              "HC             float64\n",
              "AC             float64\n",
              "HY             float64\n",
              "AY             float64\n",
              "HR             float64\n",
              "AR             float64\n",
              "season          object\n",
              "total_goals    float64\n",
              "dtype: object"
            ]
          },
          "metadata": {},
          "execution_count": 15
        }
      ]
    },
    {
      "cell_type": "code",
      "metadata": {
        "colab": {
          "base_uri": "https://localhost:8080/",
          "height": 203
        },
        "id": "4Wx7feXB9PD8",
        "outputId": "88048907-4ad7-43be-c529-e043213f4397"
      },
      "source": [
        "numerics = ['int16', 'int32', 'int64', 'float16', 'float32', 'float64']\n",
        "\n",
        "newdf = df.select_dtypes(include=numerics)\n",
        "\n",
        "newdf.head()"
      ],
      "execution_count": 16,
      "outputs": [
        {
          "output_type": "execute_result",
          "data": {
            "text/html": [
              "<div>\n",
              "<style scoped>\n",
              "    .dataframe tbody tr th:only-of-type {\n",
              "        vertical-align: middle;\n",
              "    }\n",
              "\n",
              "    .dataframe tbody tr th {\n",
              "        vertical-align: top;\n",
              "    }\n",
              "\n",
              "    .dataframe thead th {\n",
              "        text-align: right;\n",
              "    }\n",
              "</style>\n",
              "<table border=\"1\" class=\"dataframe\">\n",
              "  <thead>\n",
              "    <tr style=\"text-align: right;\">\n",
              "      <th></th>\n",
              "      <th>FTHG</th>\n",
              "      <th>FTAG</th>\n",
              "      <th>HTHG</th>\n",
              "      <th>HTAG</th>\n",
              "      <th>HS</th>\n",
              "      <th>AS</th>\n",
              "      <th>HST</th>\n",
              "      <th>AST</th>\n",
              "      <th>HF</th>\n",
              "      <th>AF</th>\n",
              "      <th>HC</th>\n",
              "      <th>AC</th>\n",
              "      <th>HY</th>\n",
              "      <th>AY</th>\n",
              "      <th>HR</th>\n",
              "      <th>AR</th>\n",
              "      <th>total_goals</th>\n",
              "    </tr>\n",
              "  </thead>\n",
              "  <tbody>\n",
              "    <tr>\n",
              "      <th>0</th>\n",
              "      <td>1.0</td>\n",
              "      <td>2.0</td>\n",
              "      <td>1.0</td>\n",
              "      <td>1.0</td>\n",
              "      <td>16.0</td>\n",
              "      <td>13.0</td>\n",
              "      <td>8.0</td>\n",
              "      <td>4.0</td>\n",
              "      <td>14.0</td>\n",
              "      <td>10.0</td>\n",
              "      <td>12.0</td>\n",
              "      <td>6.0</td>\n",
              "      <td>4.0</td>\n",
              "      <td>2.0</td>\n",
              "      <td>0.0</td>\n",
              "      <td>0.0</td>\n",
              "      <td>3.0</td>\n",
              "    </tr>\n",
              "    <tr>\n",
              "      <th>1</th>\n",
              "      <td>0.0</td>\n",
              "      <td>0.0</td>\n",
              "      <td>0.0</td>\n",
              "      <td>0.0</td>\n",
              "      <td>13.0</td>\n",
              "      <td>7.0</td>\n",
              "      <td>9.0</td>\n",
              "      <td>1.0</td>\n",
              "      <td>10.0</td>\n",
              "      <td>18.0</td>\n",
              "      <td>2.0</td>\n",
              "      <td>3.0</td>\n",
              "      <td>2.0</td>\n",
              "      <td>4.0</td>\n",
              "      <td>0.0</td>\n",
              "      <td>0.0</td>\n",
              "      <td>0.0</td>\n",
              "    </tr>\n",
              "    <tr>\n",
              "      <th>2</th>\n",
              "      <td>1.0</td>\n",
              "      <td>1.0</td>\n",
              "      <td>1.0</td>\n",
              "      <td>0.0</td>\n",
              "      <td>11.0</td>\n",
              "      <td>15.0</td>\n",
              "      <td>4.0</td>\n",
              "      <td>6.0</td>\n",
              "      <td>17.0</td>\n",
              "      <td>12.0</td>\n",
              "      <td>6.0</td>\n",
              "      <td>3.0</td>\n",
              "      <td>4.0</td>\n",
              "      <td>4.0</td>\n",
              "      <td>0.0</td>\n",
              "      <td>0.0</td>\n",
              "      <td>2.0</td>\n",
              "    </tr>\n",
              "    <tr>\n",
              "      <th>3</th>\n",
              "      <td>0.0</td>\n",
              "      <td>0.0</td>\n",
              "      <td>0.0</td>\n",
              "      <td>0.0</td>\n",
              "      <td>6.0</td>\n",
              "      <td>9.0</td>\n",
              "      <td>1.0</td>\n",
              "      <td>4.0</td>\n",
              "      <td>9.0</td>\n",
              "      <td>11.0</td>\n",
              "      <td>2.0</td>\n",
              "      <td>5.0</td>\n",
              "      <td>3.0</td>\n",
              "      <td>5.0</td>\n",
              "      <td>0.0</td>\n",
              "      <td>1.0</td>\n",
              "      <td>0.0</td>\n",
              "    </tr>\n",
              "    <tr>\n",
              "      <th>4</th>\n",
              "      <td>0.0</td>\n",
              "      <td>4.0</td>\n",
              "      <td>0.0</td>\n",
              "      <td>1.0</td>\n",
              "      <td>13.0</td>\n",
              "      <td>13.0</td>\n",
              "      <td>7.0</td>\n",
              "      <td>7.0</td>\n",
              "      <td>9.0</td>\n",
              "      <td>16.0</td>\n",
              "      <td>3.0</td>\n",
              "      <td>2.0</td>\n",
              "      <td>1.0</td>\n",
              "      <td>2.0</td>\n",
              "      <td>1.0</td>\n",
              "      <td>0.0</td>\n",
              "      <td>4.0</td>\n",
              "    </tr>\n",
              "  </tbody>\n",
              "</table>\n",
              "</div>"
            ],
            "text/plain": [
              "   FTHG  FTAG  HTHG  HTAG    HS    AS  ...   AC   HY   AY   HR   AR  total_goals\n",
              "0   1.0   2.0   1.0   1.0  16.0  13.0  ...  6.0  4.0  2.0  0.0  0.0          3.0\n",
              "1   0.0   0.0   0.0   0.0  13.0   7.0  ...  3.0  2.0  4.0  0.0  0.0          0.0\n",
              "2   1.0   1.0   1.0   0.0  11.0  15.0  ...  3.0  4.0  4.0  0.0  0.0          2.0\n",
              "3   0.0   0.0   0.0   0.0   6.0   9.0  ...  5.0  3.0  5.0  0.0  1.0          0.0\n",
              "4   0.0   4.0   0.0   1.0  13.0  13.0  ...  2.0  1.0  2.0  1.0  0.0          4.0\n",
              "\n",
              "[5 rows x 17 columns]"
            ]
          },
          "metadata": {},
          "execution_count": 16
        }
      ]
    },
    {
      "cell_type": "code",
      "metadata": {
        "colab": {
          "base_uri": "https://localhost:8080/"
        },
        "id": "gXJl4y2m9RvB",
        "outputId": "9c1a9f9d-2150-474e-f7f6-45d386f57f05"
      },
      "source": [
        "label_encoder = LabelEncoder()\n",
        "\n",
        "df['FTR'] = label_encoder.fit_transform(df['FTR'])\n",
        "\n",
        "df['FTR'].head()"
      ],
      "execution_count": 17,
      "outputs": [
        {
          "output_type": "execute_result",
          "data": {
            "text/plain": [
              "0    0\n",
              "1    1\n",
              "2    1\n",
              "3    1\n",
              "4    0\n",
              "Name: FTR, dtype: int64"
            ]
          },
          "metadata": {},
          "execution_count": 17
        }
      ]
    },
    {
      "cell_type": "markdown",
      "metadata": {
        "id": "d7sMaiRY9Uoz"
      },
      "source": [
        "0 = Away win , 1 = Draw , 2 = Home win"
      ]
    },
    {
      "cell_type": "code",
      "metadata": {
        "colab": {
          "base_uri": "https://localhost:8080/"
        },
        "id": "wqr43fDZ9S67",
        "outputId": "7f140344-9dc5-484e-ec9a-89c637afaa18"
      },
      "source": [
        "from sklearn.feature_selection import chi2\n",
        "\n",
        "X = newdf\n",
        "Y = df['FTR']\n",
        "\n",
        "chi_scores = chi2(X , Y)\n",
        "\n",
        "chi_scores"
      ],
      "execution_count": 18,
      "outputs": [
        {
          "output_type": "execute_result",
          "data": {
            "text/plain": [
              "(array([1819.78633046, 1961.31549462,  792.83630996,  842.43497064,\n",
              "         464.8982457 ,  560.44583004,  900.71683271,  802.09366326,\n",
              "           7.01814741,   22.27576572,   35.65628243,   16.97790203,\n",
              "          53.09869724,    9.356048  ,   74.1751714 ,   39.083913  ,\n",
              "         252.1301702 ]),\n",
              " array([0.00000000e+000, 0.00000000e+000, 6.88307920e-173, 1.16834323e-183,\n",
              "        1.11848103e-101, 1.99863875e-122, 2.58121927e-196, 6.72316917e-175,\n",
              "        2.99246206e-002, 1.45505340e-005, 1.80857552e-008, 2.05728953e-004,\n",
              "        2.94960864e-012, 9.29736737e-003, 7.81746929e-017, 3.25863807e-009,\n",
              "        1.78085754e-055]))"
            ]
          },
          "metadata": {},
          "execution_count": 18
        }
      ]
    },
    {
      "cell_type": "markdown",
      "metadata": {
        "id": "Y3O3OMiZ9ZX7"
      },
      "source": [
        "The first array represents chi square values while the second array represents p-values."
      ]
    },
    {
      "cell_type": "code",
      "metadata": {
        "id": "smID9iw_9WgI"
      },
      "source": [
        "p_values = pd.Series(chi_scores[1],index = X.columns)\n",
        "p_values.sort_values(ascending = False , inplace = True)"
      ],
      "execution_count": 19,
      "outputs": []
    },
    {
      "cell_type": "code",
      "metadata": {
        "colab": {
          "base_uri": "https://localhost:8080/",
          "height": 435
        },
        "id": "uVerm9BM9gV9",
        "outputId": "2cf42a6c-ab63-4760-a295-93a13aa1ea53"
      },
      "source": [
        "p_values.plot.bar(figsize = (12,6))"
      ],
      "execution_count": 20,
      "outputs": [
        {
          "output_type": "execute_result",
          "data": {
            "text/plain": [
              "<matplotlib.axes._subplots.AxesSubplot at 0x7f3a20ada390>"
            ]
          },
          "metadata": {},
          "execution_count": 20
        },
        {
          "output_type": "display_data",
          "data": {
            "image/png": "[encoded data removed]",
            "text/plain": [
              "<Figure size 864x432 with 1 Axes>"
            ]
          },
          "metadata": {
            "needs_background": "light"
          }
        }
      ]
    },
    {
      "cell_type": "markdown",
      "metadata": {
        "id": "DsdNcgZb9oKR"
      },
      "source": [
        "Because HF has a larger p-value, it means that this variable is unrelated to the repsone and so cannot be used in model training. Also, because yellow cards and fouls don't provide much information, and shots on target are better than random shots, these columns have been removed."
      ]
    },
    {
      "cell_type": "code",
      "metadata": {
        "colab": {
          "base_uri": "https://localhost:8080/"
        },
        "id": "wlvy9MSO9iMc",
        "outputId": "e13031b7-d800-488c-8db0-d3b8d6be5fda"
      },
      "source": [
        "df.shape"
      ],
      "execution_count": 21,
      "outputs": [
        {
          "output_type": "execute_result",
          "data": {
            "text/plain": [
              "(3800, 25)"
            ]
          },
          "metadata": {},
          "execution_count": 21
        }
      ]
    },
    {
      "cell_type": "code",
      "metadata": {
        "colab": {
          "base_uri": "https://localhost:8080/"
        },
        "id": "imSiWLId9rFp",
        "outputId": "7434e45d-9a8d-484b-974f-0cbe961c8044"
      },
      "source": [
        "df.columns"
      ],
      "execution_count": 22,
      "outputs": [
        {
          "output_type": "execute_result",
          "data": {
            "text/plain": [
              "Index(['Div', 'Date', 'HomeTeam', 'AwayTeam', 'FTHG', 'FTAG', 'FTR', 'HTHG',\n",
              "       'HTAG', 'HTR', 'Referee', 'HS', 'AS', 'HST', 'AST', 'HF', 'AF', 'HC',\n",
              "       'AC', 'HY', 'AY', 'HR', 'AR', 'season', 'total_goals'],\n",
              "      dtype='object')"
            ]
          },
          "metadata": {},
          "execution_count": 22
        }
      ]
    },
    {
      "cell_type": "code",
      "metadata": {
        "colab": {
          "base_uri": "https://localhost:8080/",
          "height": 203
        },
        "id": "U1usDw4_9r-Z",
        "outputId": "ad539a99-60a0-4e36-e405-808fe0caa09c"
      },
      "source": [
        "req_cols = ['HomeTeam' , 'AwayTeam' , 'HTHG' , 'HTAG' , 'HTR' , 'HST' , 'AST' , 'HC' , 'AC' , 'HR' , 'AR' , 'FTR']\n",
        "\n",
        "final_df = df[req_cols]\n",
        "\n",
        "final_df.head()"
      ],
      "execution_count": 23,
      "outputs": [
        {
          "output_type": "execute_result",
          "data": {
            "text/html": [
              "<div>\n",
              "<style scoped>\n",
              "    .dataframe tbody tr th:only-of-type {\n",
              "        vertical-align: middle;\n",
              "    }\n",
              "\n",
              "    .dataframe tbody tr th {\n",
              "        vertical-align: top;\n",
              "    }\n",
              "\n",
              "    .dataframe thead th {\n",
              "        text-align: right;\n",
              "    }\n",
              "</style>\n",
              "<table border=\"1\" class=\"dataframe\">\n",
              "  <thead>\n",
              "    <tr style=\"text-align: right;\">\n",
              "      <th></th>\n",
              "      <th>HomeTeam</th>\n",
              "      <th>AwayTeam</th>\n",
              "      <th>HTHG</th>\n",
              "      <th>HTAG</th>\n",
              "      <th>HTR</th>\n",
              "      <th>HST</th>\n",
              "      <th>AST</th>\n",
              "      <th>HC</th>\n",
              "      <th>AC</th>\n",
              "      <th>HR</th>\n",
              "      <th>AR</th>\n",
              "      <th>FTR</th>\n",
              "    </tr>\n",
              "  </thead>\n",
              "  <tbody>\n",
              "    <tr>\n",
              "      <th>0</th>\n",
              "      <td>Blackburn</td>\n",
              "      <td>Wolves</td>\n",
              "      <td>1.0</td>\n",
              "      <td>1.0</td>\n",
              "      <td>D</td>\n",
              "      <td>8.0</td>\n",
              "      <td>4.0</td>\n",
              "      <td>12.0</td>\n",
              "      <td>6.0</td>\n",
              "      <td>0.0</td>\n",
              "      <td>0.0</td>\n",
              "      <td>0</td>\n",
              "    </tr>\n",
              "    <tr>\n",
              "      <th>1</th>\n",
              "      <td>Fulham</td>\n",
              "      <td>Aston Villa</td>\n",
              "      <td>0.0</td>\n",
              "      <td>0.0</td>\n",
              "      <td>D</td>\n",
              "      <td>9.0</td>\n",
              "      <td>1.0</td>\n",
              "      <td>2.0</td>\n",
              "      <td>3.0</td>\n",
              "      <td>0.0</td>\n",
              "      <td>0.0</td>\n",
              "      <td>1</td>\n",
              "    </tr>\n",
              "    <tr>\n",
              "      <th>2</th>\n",
              "      <td>Liverpool</td>\n",
              "      <td>Sunderland</td>\n",
              "      <td>1.0</td>\n",
              "      <td>0.0</td>\n",
              "      <td>H</td>\n",
              "      <td>4.0</td>\n",
              "      <td>6.0</td>\n",
              "      <td>6.0</td>\n",
              "      <td>3.0</td>\n",
              "      <td>0.0</td>\n",
              "      <td>0.0</td>\n",
              "      <td>1</td>\n",
              "    </tr>\n",
              "    <tr>\n",
              "      <th>3</th>\n",
              "      <td>Newcastle</td>\n",
              "      <td>Arsenal</td>\n",
              "      <td>0.0</td>\n",
              "      <td>0.0</td>\n",
              "      <td>D</td>\n",
              "      <td>1.0</td>\n",
              "      <td>4.0</td>\n",
              "      <td>2.0</td>\n",
              "      <td>5.0</td>\n",
              "      <td>0.0</td>\n",
              "      <td>1.0</td>\n",
              "      <td>1</td>\n",
              "    </tr>\n",
              "    <tr>\n",
              "      <th>4</th>\n",
              "      <td>QPR</td>\n",
              "      <td>Bolton</td>\n",
              "      <td>0.0</td>\n",
              "      <td>1.0</td>\n",
              "      <td>A</td>\n",
              "      <td>7.0</td>\n",
              "      <td>7.0</td>\n",
              "      <td>3.0</td>\n",
              "      <td>2.0</td>\n",
              "      <td>1.0</td>\n",
              "      <td>0.0</td>\n",
              "      <td>0</td>\n",
              "    </tr>\n",
              "  </tbody>\n",
              "</table>\n",
              "</div>"
            ],
            "text/plain": [
              "    HomeTeam     AwayTeam  HTHG  HTAG HTR  HST  AST    HC   AC   HR   AR  FTR\n",
              "0  Blackburn       Wolves   1.0   1.0   D  8.0  4.0  12.0  6.0  0.0  0.0    0\n",
              "1     Fulham  Aston Villa   0.0   0.0   D  9.0  1.0   2.0  3.0  0.0  0.0    1\n",
              "2  Liverpool   Sunderland   1.0   0.0   H  4.0  6.0   6.0  3.0  0.0  0.0    1\n",
              "3  Newcastle      Arsenal   0.0   0.0   D  1.0  4.0   2.0  5.0  0.0  1.0    1\n",
              "4        QPR       Bolton   0.0   1.0   A  7.0  7.0   3.0  2.0  1.0  0.0    0"
            ]
          },
          "metadata": {},
          "execution_count": 23
        }
      ]
    },
    {
      "cell_type": "code",
      "metadata": {
        "colab": {
          "base_uri": "https://localhost:8080/",
          "height": 506
        },
        "id": "baCnQ1Gk9s75",
        "outputId": "4d79ec9d-81ee-4d97-f388-5b20e723680a"
      },
      "source": [
        "final_df['HomeTeam'] = label_encoder.fit_transform(final_df['HomeTeam'])\n",
        "final_df['AwayTeam'] = label_encoder.fit_transform(final_df['AwayTeam'])\n",
        "\n",
        "final_df['HTR'] = label_encoder.fit_transform(final_df['HTR'])\n",
        "\n",
        "final_df.head()"
      ],
      "execution_count": 24,
      "outputs": [
        {
          "output_type": "stream",
          "name": "stderr",
          "text": [
            "/usr/local/lib/python3.7/dist-packages/ipykernel_launcher.py:1: SettingWithCopyWarning: \n",
            "A value is trying to be set on a copy of a slice from a DataFrame.\n",
            "Try using .loc[row_indexer,col_indexer] = value instead\n",
            "\n",
            "See the caveats in the documentation: https://pandas.pydata.org/pandas-docs/stable/user_guide/indexing.html#returning-a-view-versus-a-copy\n",
            "  \"\"\"Entry point for launching an IPython kernel.\n",
            "/usr/local/lib/python3.7/dist-packages/ipykernel_launcher.py:2: SettingWithCopyWarning: \n",
            "A value is trying to be set on a copy of a slice from a DataFrame.\n",
            "Try using .loc[row_indexer,col_indexer] = value instead\n",
            "\n",
            "See the caveats in the documentation: https://pandas.pydata.org/pandas-docs/stable/user_guide/indexing.html#returning-a-view-versus-a-copy\n",
            "  \n",
            "/usr/local/lib/python3.7/dist-packages/ipykernel_launcher.py:4: SettingWithCopyWarning: \n",
            "A value is trying to be set on a copy of a slice from a DataFrame.\n",
            "Try using .loc[row_indexer,col_indexer] = value instead\n",
            "\n",
            "See the caveats in the documentation: https://pandas.pydata.org/pandas-docs/stable/user_guide/indexing.html#returning-a-view-versus-a-copy\n",
            "  after removing the cwd from sys.path.\n"
          ]
        },
        {
          "output_type": "execute_result",
          "data": {
            "text/html": [
              "<div>\n",
              "<style scoped>\n",
              "    .dataframe tbody tr th:only-of-type {\n",
              "        vertical-align: middle;\n",
              "    }\n",
              "\n",
              "    .dataframe tbody tr th {\n",
              "        vertical-align: top;\n",
              "    }\n",
              "\n",
              "    .dataframe thead th {\n",
              "        text-align: right;\n",
              "    }\n",
              "</style>\n",
              "<table border=\"1\" class=\"dataframe\">\n",
              "  <thead>\n",
              "    <tr style=\"text-align: right;\">\n",
              "      <th></th>\n",
              "      <th>HomeTeam</th>\n",
              "      <th>AwayTeam</th>\n",
              "      <th>HTHG</th>\n",
              "      <th>HTAG</th>\n",
              "      <th>HTR</th>\n",
              "      <th>HST</th>\n",
              "      <th>AST</th>\n",
              "      <th>HC</th>\n",
              "      <th>AC</th>\n",
              "      <th>HR</th>\n",
              "      <th>AR</th>\n",
              "      <th>FTR</th>\n",
              "    </tr>\n",
              "  </thead>\n",
              "  <tbody>\n",
              "    <tr>\n",
              "      <th>0</th>\n",
              "      <td>2</td>\n",
              "      <td>34</td>\n",
              "      <td>1.0</td>\n",
              "      <td>1.0</td>\n",
              "      <td>1</td>\n",
              "      <td>8.0</td>\n",
              "      <td>4.0</td>\n",
              "      <td>12.0</td>\n",
              "      <td>6.0</td>\n",
              "      <td>0.0</td>\n",
              "      <td>0.0</td>\n",
              "      <td>0</td>\n",
              "    </tr>\n",
              "    <tr>\n",
              "      <th>1</th>\n",
              "      <td>11</td>\n",
              "      <td>1</td>\n",
              "      <td>0.0</td>\n",
              "      <td>0.0</td>\n",
              "      <td>1</td>\n",
              "      <td>9.0</td>\n",
              "      <td>1.0</td>\n",
              "      <td>2.0</td>\n",
              "      <td>3.0</td>\n",
              "      <td>0.0</td>\n",
              "      <td>0.0</td>\n",
              "      <td>1</td>\n",
              "    </tr>\n",
              "    <tr>\n",
              "      <th>2</th>\n",
              "      <td>16</td>\n",
              "      <td>27</td>\n",
              "      <td>1.0</td>\n",
              "      <td>0.0</td>\n",
              "      <td>2</td>\n",
              "      <td>4.0</td>\n",
              "      <td>6.0</td>\n",
              "      <td>6.0</td>\n",
              "      <td>3.0</td>\n",
              "      <td>0.0</td>\n",
              "      <td>0.0</td>\n",
              "      <td>1</td>\n",
              "    </tr>\n",
              "    <tr>\n",
              "      <th>3</th>\n",
              "      <td>20</td>\n",
              "      <td>0</td>\n",
              "      <td>0.0</td>\n",
              "      <td>0.0</td>\n",
              "      <td>1</td>\n",
              "      <td>1.0</td>\n",
              "      <td>4.0</td>\n",
              "      <td>2.0</td>\n",
              "      <td>5.0</td>\n",
              "      <td>0.0</td>\n",
              "      <td>1.0</td>\n",
              "      <td>1</td>\n",
              "    </tr>\n",
              "    <tr>\n",
              "      <th>4</th>\n",
              "      <td>22</td>\n",
              "      <td>3</td>\n",
              "      <td>0.0</td>\n",
              "      <td>1.0</td>\n",
              "      <td>0</td>\n",
              "      <td>7.0</td>\n",
              "      <td>7.0</td>\n",
              "      <td>3.0</td>\n",
              "      <td>2.0</td>\n",
              "      <td>1.0</td>\n",
              "      <td>0.0</td>\n",
              "      <td>0</td>\n",
              "    </tr>\n",
              "  </tbody>\n",
              "</table>\n",
              "</div>"
            ],
            "text/plain": [
              "   HomeTeam  AwayTeam  HTHG  HTAG  HTR  HST  AST    HC   AC   HR   AR  FTR\n",
              "0         2        34   1.0   1.0    1  8.0  4.0  12.0  6.0  0.0  0.0    0\n",
              "1        11         1   0.0   0.0    1  9.0  1.0   2.0  3.0  0.0  0.0    1\n",
              "2        16        27   1.0   0.0    2  4.0  6.0   6.0  3.0  0.0  0.0    1\n",
              "3        20         0   0.0   0.0    1  1.0  4.0   2.0  5.0  0.0  1.0    1\n",
              "4        22         3   0.0   1.0    0  7.0  7.0   3.0  2.0  1.0  0.0    0"
            ]
          },
          "metadata": {},
          "execution_count": 24
        }
      ]
    },
    {
      "cell_type": "markdown",
      "metadata": {
        "id": "C3PlZm_n9xTp"
      },
      "source": [
        "#Splitting into Train/Test"
      ]
    },
    {
      "cell_type": "code",
      "metadata": {
        "id": "H2zoqljZ9ule"
      },
      "source": [
        "from sklearn.model_selection import train_test_split\n",
        "from sklearn.metrics import accuracy_score\n",
        "from sklearn.metrics import confusion_matrix, classification_report\n",
        "from sklearn.pipeline import make_pipeline\n",
        "from sklearn.preprocessing import StandardScaler\n",
        "\n",
        "X = final_df.drop(['FTR'] , axis=1)\n",
        "y = final_df['FTR']\n",
        "\n",
        "X_train , X_test , y_train , y_test = train_test_split(X , y , test_size=0.2 , random_state=42)"
      ],
      "execution_count": 44,
      "outputs": []
    },
    {
      "cell_type": "code",
      "metadata": {
        "colab": {
          "base_uri": "https://localhost:8080/",
          "height": 203
        },
        "id": "whipHiEG92Lz",
        "outputId": "36c17093-acf8-42f8-d802-2bbe17d463e5"
      },
      "source": [
        "X_train.head()"
      ],
      "execution_count": 45,
      "outputs": [
        {
          "output_type": "execute_result",
          "data": {
            "text/html": [
              "<div>\n",
              "<style scoped>\n",
              "    .dataframe tbody tr th:only-of-type {\n",
              "        vertical-align: middle;\n",
              "    }\n",
              "\n",
              "    .dataframe tbody tr th {\n",
              "        vertical-align: top;\n",
              "    }\n",
              "\n",
              "    .dataframe thead th {\n",
              "        text-align: right;\n",
              "    }\n",
              "</style>\n",
              "<table border=\"1\" class=\"dataframe\">\n",
              "  <thead>\n",
              "    <tr style=\"text-align: right;\">\n",
              "      <th></th>\n",
              "      <th>HomeTeam</th>\n",
              "      <th>AwayTeam</th>\n",
              "      <th>HTHG</th>\n",
              "      <th>HTAG</th>\n",
              "      <th>HTR</th>\n",
              "      <th>HST</th>\n",
              "      <th>AST</th>\n",
              "      <th>HC</th>\n",
              "      <th>AC</th>\n",
              "      <th>HR</th>\n",
              "      <th>AR</th>\n",
              "    </tr>\n",
              "  </thead>\n",
              "  <tbody>\n",
              "    <tr>\n",
              "      <th>246</th>\n",
              "      <td>28</td>\n",
              "      <td>21</td>\n",
              "      <td>1.0</td>\n",
              "      <td>0.0</td>\n",
              "      <td>2</td>\n",
              "      <td>9.0</td>\n",
              "      <td>11.0</td>\n",
              "      <td>6.0</td>\n",
              "      <td>8.0</td>\n",
              "      <td>0.0</td>\n",
              "      <td>0.0</td>\n",
              "    </tr>\n",
              "    <tr>\n",
              "      <th>102</th>\n",
              "      <td>9</td>\n",
              "      <td>10</td>\n",
              "      <td>0.0</td>\n",
              "      <td>0.0</td>\n",
              "      <td>1</td>\n",
              "      <td>2.0</td>\n",
              "      <td>2.0</td>\n",
              "      <td>4.0</td>\n",
              "      <td>7.0</td>\n",
              "      <td>0.0</td>\n",
              "      <td>0.0</td>\n",
              "    </tr>\n",
              "    <tr>\n",
              "      <th>354</th>\n",
              "      <td>16</td>\n",
              "      <td>10</td>\n",
              "      <td>0.0</td>\n",
              "      <td>0.0</td>\n",
              "      <td>1</td>\n",
              "      <td>8.0</td>\n",
              "      <td>4.0</td>\n",
              "      <td>3.0</td>\n",
              "      <td>5.0</td>\n",
              "      <td>0.0</td>\n",
              "      <td>0.0</td>\n",
              "    </tr>\n",
              "    <tr>\n",
              "      <th>125</th>\n",
              "      <td>8</td>\n",
              "      <td>17</td>\n",
              "      <td>0.0</td>\n",
              "      <td>0.0</td>\n",
              "      <td>1</td>\n",
              "      <td>1.0</td>\n",
              "      <td>7.0</td>\n",
              "      <td>6.0</td>\n",
              "      <td>11.0</td>\n",
              "      <td>0.0</td>\n",
              "      <td>0.0</td>\n",
              "    </tr>\n",
              "    <tr>\n",
              "      <th>127</th>\n",
              "      <td>31</td>\n",
              "      <td>0</td>\n",
              "      <td>2.0</td>\n",
              "      <td>1.0</td>\n",
              "      <td>2</td>\n",
              "      <td>1.0</td>\n",
              "      <td>3.0</td>\n",
              "      <td>3.0</td>\n",
              "      <td>5.0</td>\n",
              "      <td>0.0</td>\n",
              "      <td>0.0</td>\n",
              "    </tr>\n",
              "  </tbody>\n",
              "</table>\n",
              "</div>"
            ],
            "text/plain": [
              "     HomeTeam  AwayTeam  HTHG  HTAG  HTR  HST   AST   HC    AC   HR   AR\n",
              "246        28        21   1.0   0.0    2  9.0  11.0  6.0   8.0  0.0  0.0\n",
              "102         9        10   0.0   0.0    1  2.0   2.0  4.0   7.0  0.0  0.0\n",
              "354        16        10   0.0   0.0    1  8.0   4.0  3.0   5.0  0.0  0.0\n",
              "125         8        17   0.0   0.0    1  1.0   7.0  6.0  11.0  0.0  0.0\n",
              "127        31         0   2.0   1.0    2  1.0   3.0  3.0   5.0  0.0  0.0"
            ]
          },
          "metadata": {},
          "execution_count": 45
        }
      ]
    },
    {
      "cell_type": "markdown",
      "metadata": {
        "id": "teLvEgcT97HH"
      },
      "source": [
        "#Logistic Regression:"
      ]
    },
    {
      "cell_type": "code",
      "metadata": {
        "colab": {
          "base_uri": "https://localhost:8080/"
        },
        "id": "aqxjh_FL93X6",
        "outputId": "a51659ca-71c2-4d1f-bb2a-d7e82a5df942"
      },
      "source": [
        "pipe =  make_pipeline(StandardScaler() , LogisticRegression(C=4 , multi_class='ovr' , max_iter=300 , random_state=0) )\n",
        "\n",
        "pipe.fit(X_train , y_train)"
      ],
      "execution_count": 46,
      "outputs": [
        {
          "output_type": "execute_result",
          "data": {
            "text/plain": [
              "Pipeline(memory=None,\n",
              "         steps=[('standardscaler',\n",
              "                 StandardScaler(copy=True, with_mean=True, with_std=True)),\n",
              "                ('logisticregression',\n",
              "                 LogisticRegression(C=4, class_weight=None, dual=False,\n",
              "                                    fit_intercept=True, intercept_scaling=1,\n",
              "                                    l1_ratio=None, max_iter=300,\n",
              "                                    multi_class='ovr', n_jobs=None,\n",
              "                                    penalty='l2', random_state=0,\n",
              "                                    solver='lbfgs', tol=0.0001, verbose=0,\n",
              "                                    warm_start=False))],\n",
              "         verbose=False)"
            ]
          },
          "metadata": {},
          "execution_count": 46
        }
      ]
    },
    {
      "cell_type": "code",
      "metadata": {
        "colab": {
          "base_uri": "https://localhost:8080/"
        },
        "id": "bLzh7P2o9_C0",
        "outputId": "2edad114-d89d-4896-dba7-d904a4d94bca"
      },
      "source": [
        "pipe.score(X_test , y_test)"
      ],
      "execution_count": 47,
      "outputs": [
        {
          "output_type": "execute_result",
          "data": {
            "text/plain": [
              "0.6671052631578948"
            ]
          },
          "metadata": {},
          "execution_count": 47
        }
      ]
    },
    {
      "cell_type": "code",
      "metadata": {
        "colab": {
          "base_uri": "https://localhost:8080/",
          "height": 282
        },
        "id": "lc8XL5op-Ajo",
        "outputId": "009f8682-ffef-494a-a730-3505e9d9845d"
      },
      "source": [
        "y_pred = pipe.predict(X_test)\n",
        "\n",
        "cm = confusion_matrix(y_test , y_pred)\n",
        "\n",
        "sns.heatmap(cm, annot=True,fmt='d')"
      ],
      "execution_count": 48,
      "outputs": [
        {
          "output_type": "execute_result",
          "data": {
            "text/plain": [
              "<matplotlib.axes._subplots.AxesSubplot at 0x7f3a159b3d50>"
            ]
          },
          "metadata": {},
          "execution_count": 48
        },
        {
          "output_type": "display_data",
          "data": {
            "image/png": "[encoded data removed]",
            "text/plain": [
              "<Figure size 432x288 with 2 Axes>"
            ]
          },
          "metadata": {
            "needs_background": "light"
          }
        }
      ]
    },
    {
      "cell_type": "code",
      "metadata": {
        "colab": {
          "base_uri": "https://localhost:8080/"
        },
        "id": "EZ-WLYdX-BxI",
        "outputId": "f5690c28-3d36-45b9-c0ae-c95991302ca4"
      },
      "source": [
        "print(classification_report(y_test, y_pred))"
      ],
      "execution_count": 49,
      "outputs": [
        {
          "output_type": "stream",
          "name": "stdout",
          "text": [
            "              precision    recall  f1-score   support\n",
            "\n",
            "           0       0.66      0.80      0.72       242\n",
            "           1       0.43      0.09      0.16       169\n",
            "           2       0.69      0.85      0.77       349\n",
            "\n",
            "    accuracy                           0.67       760\n",
            "   macro avg       0.59      0.58      0.55       760\n",
            "weighted avg       0.62      0.67      0.62       760\n",
            "\n"
          ]
        }
      ]
    },
    {
      "cell_type": "markdown",
      "metadata": {
        "id": "YFH7UvzA-E0O"
      },
      "source": [
        "#Support Vector Classification:"
      ]
    },
    {
      "cell_type": "code",
      "metadata": {
        "colab": {
          "base_uri": "https://localhost:8080/"
        },
        "id": "MdstsZUP-DA6",
        "outputId": "9a37eb45-5ff3-4d0b-8b61-33ecaa4f6ca1"
      },
      "source": [
        "model = SVC(kernel='rbf' , random_state=0)\n",
        "\n",
        "model.fit(X_train , y_train)"
      ],
      "execution_count": 31,
      "outputs": [
        {
          "output_type": "execute_result",
          "data": {
            "text/plain": [
              "SVC(C=1.0, break_ties=False, cache_size=200, class_weight=None, coef0=0.0,\n",
              "    decision_function_shape='ovr', degree=3, gamma='scale', kernel='rbf',\n",
              "    max_iter=-1, probability=False, random_state=0, shrinking=True, tol=0.001,\n",
              "    verbose=False)"
            ]
          },
          "metadata": {},
          "execution_count": 31
        }
      ]
    },
    {
      "cell_type": "code",
      "metadata": {
        "colab": {
          "base_uri": "https://localhost:8080/"
        },
        "id": "KVHlvaZ0-QcU",
        "outputId": "3bd24b1a-6d4a-46d7-d167-8538e99084d1"
      },
      "source": [
        "model.score(X_test , y_test)"
      ],
      "execution_count": 32,
      "outputs": [
        {
          "output_type": "execute_result",
          "data": {
            "text/plain": [
              "0.6460526315789473"
            ]
          },
          "metadata": {},
          "execution_count": 32
        }
      ]
    },
    {
      "cell_type": "code",
      "metadata": {
        "colab": {
          "base_uri": "https://localhost:8080/",
          "height": 282
        },
        "id": "2PR5PQlm-R6Q",
        "outputId": "2a374115-7a00-4fc3-eac4-8db8e5940710"
      },
      "source": [
        "y_pred = model.predict(X_test)\n",
        "\n",
        "cm = confusion_matrix(y_test , y_pred)\n",
        "\n",
        "sns.heatmap(cm, annot=True,fmt='d')"
      ],
      "execution_count": 33,
      "outputs": [
        {
          "output_type": "execute_result",
          "data": {
            "text/plain": [
              "<matplotlib.axes._subplots.AxesSubplot at 0x7f3a1e9e4890>"
            ]
          },
          "metadata": {},
          "execution_count": 33
        },
        {
          "output_type": "display_data",
          "data": {
            "image/png": "[encoded data removed]",
            "text/plain": [
              "<Figure size 432x288 with 2 Axes>"
            ]
          },
          "metadata": {
            "needs_background": "light"
          }
        }
      ]
    },
    {
      "cell_type": "code",
      "metadata": {
        "colab": {
          "base_uri": "https://localhost:8080/"
        },
        "id": "RSW28vky-TBZ",
        "outputId": "51a11b7f-c3e1-4261-ba13-672f4ac5e802"
      },
      "source": [
        "print(classification_report(y_test, y_pred))"
      ],
      "execution_count": 34,
      "outputs": [
        {
          "output_type": "stream",
          "name": "stdout",
          "text": [
            "              precision    recall  f1-score   support\n",
            "\n",
            "           0       0.65      0.74      0.69       242\n",
            "           1       0.34      0.08      0.13       169\n",
            "           2       0.67      0.85      0.75       349\n",
            "\n",
            "    accuracy                           0.65       760\n",
            "   macro avg       0.55      0.56      0.53       760\n",
            "weighted avg       0.59      0.65      0.60       760\n",
            "\n"
          ]
        }
      ]
    },
    {
      "cell_type": "markdown",
      "metadata": {
        "id": "LN8-Dh9m-WQ0"
      },
      "source": [
        "#Random Forrest Classifier:"
      ]
    },
    {
      "cell_type": "code",
      "metadata": {
        "colab": {
          "base_uri": "https://localhost:8080/"
        },
        "id": "igcGVDJQ-USQ",
        "outputId": "39a52e07-ce97-4d8c-cc66-636458108a34"
      },
      "source": [
        "model = RandomForestClassifier(criterion='gini' ,  n_estimators=300 , \n",
        "                                                 min_samples_split=10 , oob_score=True , random_state=0) \n",
        "\n",
        "model.fit(X_train , y_train)"
      ],
      "execution_count": 50,
      "outputs": [
        {
          "output_type": "execute_result",
          "data": {
            "text/plain": [
              "RandomForestClassifier(bootstrap=True, ccp_alpha=0.0, class_weight=None,\n",
              "                       criterion='gini', max_depth=None, max_features='auto',\n",
              "                       max_leaf_nodes=None, max_samples=None,\n",
              "                       min_impurity_decrease=0.0, min_impurity_split=None,\n",
              "                       min_samples_leaf=1, min_samples_split=10,\n",
              "                       min_weight_fraction_leaf=0.0, n_estimators=300,\n",
              "                       n_jobs=None, oob_score=True, random_state=0, verbose=0,\n",
              "                       warm_start=False)"
            ]
          },
          "metadata": {},
          "execution_count": 50
        }
      ]
    },
    {
      "cell_type": "code",
      "metadata": {
        "colab": {
          "base_uri": "https://localhost:8080/"
        },
        "id": "BbuOwdDv-Zwh",
        "outputId": "bd0abe85-34de-4d8f-f2af-70e06eeb0e9f"
      },
      "source": [
        "model.score(X_test , y_test)"
      ],
      "execution_count": 51,
      "outputs": [
        {
          "output_type": "execute_result",
          "data": {
            "text/plain": [
              "0.656578947368421"
            ]
          },
          "metadata": {},
          "execution_count": 51
        }
      ]
    },
    {
      "cell_type": "code",
      "metadata": {
        "colab": {
          "base_uri": "https://localhost:8080/",
          "height": 282
        },
        "id": "1RYRzXfr-bC9",
        "outputId": "449f8195-2cf7-4a08-9a79-c67e7ab17bef"
      },
      "source": [
        "y_pred = model.predict(X_test)\n",
        "\n",
        "cm = confusion_matrix(y_test , y_pred)\n",
        "\n",
        "sns.heatmap(cm, annot=True,fmt='d')"
      ],
      "execution_count": 52,
      "outputs": [
        {
          "output_type": "execute_result",
          "data": {
            "text/plain": [
              "<matplotlib.axes._subplots.AxesSubplot at 0x7f3a15900d10>"
            ]
          },
          "metadata": {},
          "execution_count": 52
        },
        {
          "output_type": "display_data",
          "data": {
            "image/png": "[encoded data removed]",
            "text/plain": [
              "<Figure size 432x288 with 2 Axes>"
            ]
          },
          "metadata": {
            "needs_background": "light"
          }
        }
      ]
    },
    {
      "cell_type": "code",
      "metadata": {
        "colab": {
          "base_uri": "https://localhost:8080/"
        },
        "id": "u82lrGvV-byv",
        "outputId": "67044278-4384-4182-ae83-36ba16eec75d"
      },
      "source": [
        "print(classification_report(y_test , y_pred))"
      ],
      "execution_count": 53,
      "outputs": [
        {
          "output_type": "stream",
          "name": "stdout",
          "text": [
            "              precision    recall  f1-score   support\n",
            "\n",
            "           0       0.69      0.74      0.71       242\n",
            "           1       0.38      0.27      0.31       169\n",
            "           2       0.72      0.79      0.75       349\n",
            "\n",
            "    accuracy                           0.66       760\n",
            "   macro avg       0.60      0.60      0.59       760\n",
            "weighted avg       0.64      0.66      0.64       760\n",
            "\n"
          ]
        }
      ]
    },
    {
      "cell_type": "markdown",
      "metadata": {
        "id": "hMTMU8sb-eR8"
      },
      "source": [
        "#XGB Classifier:"
      ]
    },
    {
      "cell_type": "code",
      "metadata": {
        "colab": {
          "base_uri": "https://localhost:8080/"
        },
        "id": "FVzP1O7X-cut",
        "outputId": "031ffc63-2068-4365-8c44-bfe1a4bfa5ef"
      },
      "source": [
        "from xgboost import XGBClassifier\n",
        "\n",
        "model = XGBClassifier(n_estimators=700 , max_depth=1 )\n",
        "\n",
        "model.fit(X_train , y_train)"
      ],
      "execution_count": 54,
      "outputs": [
        {
          "output_type": "execute_result",
          "data": {
            "text/plain": [
              "XGBClassifier(base_score=0.5, booster='gbtree', colsample_bylevel=1,\n",
              "              colsample_bynode=1, colsample_bytree=1, gamma=0,\n",
              "              learning_rate=0.1, max_delta_step=0, max_depth=1,\n",
              "              min_child_weight=1, missing=None, n_estimators=700, n_jobs=1,\n",
              "              nthread=None, objective='multi:softprob', random_state=0,\n",
              "              reg_alpha=0, reg_lambda=1, scale_pos_weight=1, seed=None,\n",
              "              silent=None, subsample=1, verbosity=1)"
            ]
          },
          "metadata": {},
          "execution_count": 54
        }
      ]
    },
    {
      "cell_type": "code",
      "metadata": {
        "colab": {
          "base_uri": "https://localhost:8080/"
        },
        "id": "taqMnzIT-lVS",
        "outputId": "84b445fc-76e3-459e-e25a-717735119cee"
      },
      "source": [
        "model.score(X_test , y_test)"
      ],
      "execution_count": 55,
      "outputs": [
        {
          "output_type": "execute_result",
          "data": {
            "text/plain": [
              "0.6710526315789473"
            ]
          },
          "metadata": {},
          "execution_count": 55
        }
      ]
    },
    {
      "cell_type": "code",
      "metadata": {
        "colab": {
          "base_uri": "https://localhost:8080/",
          "height": 282
        },
        "id": "Wr00Yf1E-mKD",
        "outputId": "2bd92e36-b2fd-4d91-eb20-ff181bb540ee"
      },
      "source": [
        "y_pred = model.predict(X_test)\n",
        "\n",
        "cm = confusion_matrix(y_test , y_pred)\n",
        "\n",
        "sns.heatmap(cm, annot=True,fmt='d')"
      ],
      "execution_count": 56,
      "outputs": [
        {
          "output_type": "execute_result",
          "data": {
            "text/plain": [
              "<matplotlib.axes._subplots.AxesSubplot at 0x7f3a15835b10>"
            ]
          },
          "metadata": {},
          "execution_count": 56
        },
        {
          "output_type": "display_data",
          "data": {
            "image/png": "[encoded data removed]",
            "text/plain": [
              "<Figure size 432x288 with 2 Axes>"
            ]
          },
          "metadata": {
            "needs_background": "light"
          }
        }
      ]
    },
    {
      "cell_type": "code",
      "metadata": {
        "colab": {
          "base_uri": "https://localhost:8080/"
        },
        "id": "l-R0Qgy6-nJh",
        "outputId": "d6029a51-0822-4cae-f6e3-59986c1b483a"
      },
      "source": [
        "print(classification_report(y_test , y_pred))"
      ],
      "execution_count": 57,
      "outputs": [
        {
          "output_type": "stream",
          "name": "stdout",
          "text": [
            "              precision    recall  f1-score   support\n",
            "\n",
            "           0       0.69      0.76      0.72       242\n",
            "           1       0.39      0.25      0.31       169\n",
            "           2       0.74      0.81      0.77       349\n",
            "\n",
            "    accuracy                           0.67       760\n",
            "   macro avg       0.61      0.61      0.60       760\n",
            "weighted avg       0.65      0.67      0.65       760\n",
            "\n"
          ]
        }
      ]
    },
    {
      "cell_type": "markdown",
      "metadata": {
        "id": "REu9HSxs-o9g"
      },
      "source": [
        "From our analysis, we can see that XGBoost has the highest accuracy score of 67.5% and highest F1 score."
      ]
    }
  ]
}